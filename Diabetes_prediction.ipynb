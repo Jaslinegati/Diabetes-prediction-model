{
  "cells": [
    {
      "cell_type": "markdown",
      "metadata": {
        "id": "exWk0c1YHL9F"
      },
      "source": [
        "# Predicting likelihood of a person to be diabetic"
      ]
    },
    {
      "cell_type": "markdown",
      "metadata": {
        "id": "pOC4Mk5nIGcm"
      },
      "source": [
        "Link to the dataset: https://data.world/informatics-edu/diabetes-prediction"
      ]
    },
    {
      "cell_type": "markdown",
      "metadata": {
        "id": "5w4W9t7YIdst"
      },
      "source": [
        "The dataset contains information on patients which can be used to predict if the patient has diabetes."
      ]
    },
    {
      "cell_type": "markdown",
      "metadata": {
        "id": "yz6l34JkIxGx"
      },
      "source": [
        "**Dataset information:** More than 37 million people in the United States have diabetes, and 1 in 5 of them don't know they have it. 96 million US adults—over a third—have prediabetes, and more than 8 in 10 of them don't know they have it. Diabetes is the 7th leading cause of death in the United States (and may be underreported). Several hundred rural African-American patients were tested and their medical results recorded for purposes of research. The diabetes.csv file contains the raw data of all patients. The Diabetes.csv file will be cleaned and manipulated. in an attempt to predict who is likely to have diabetes based on their hemoglobin A1c. "
      ]
    },
    {
      "cell_type": "markdown",
      "metadata": {},
      "source": [
        "# 1)  Defining the question\n",
        "\n",
        "a) Objectives\n",
        "\n",
        "Main objective: \n",
        "\n",
        "Predicting whether a person has diabetes or not.\n",
        "\n",
        "Specific objectives:\n",
        "\n",
        " Perform \n",
        "- Data exploration\n",
        "- Data pre-processing\n",
        "- Build the regression model to predict whether a person has diabetes or not.\n",
        "- Evaluate the model and report the results\n",
        "\n",
        "\n",
        "b) Metrics For success\n",
        "\n",
        "Should have:\n",
        "- Feature engineering to extract meaningful features fro the model.\n",
        "- A detailed interpretation of the statistical and economical significance\n",
        "\n",
        "c) Context\n",
        "\n",
        "Prediction of diabetes at an early stage can lead to improved treatment. Data mining techniques are widely used for prediction of disease at an early stage. In this research project, diabetes is predicted using significant attributes using logistic regression model.\n",
        "\n",
        "\n"
      ]
    },
    {
      "cell_type": "markdown",
      "metadata": {
        "id": "KPtXUE_aN5Hj"
      },
      "source": [
        "# 2) Reading Data"
      ]
    },
    {
      "cell_type": "code",
      "execution_count": 157,
      "metadata": {
        "id": "TIiVaROLHCXk"
      },
      "outputs": [],
      "source": [
        "# Import the necessary libraries\n",
        "\n",
        "import numpy as np\n",
        "import pandas as pd\n",
        "import seaborn as sns\n",
        "import matplotlib.pyplot as plt\n",
        "from sklearn.preprocessing import OneHotEncoder\n",
        "\n",
        "from sklearn.model_selection import train_test_split\n",
        "from sklearn.linear_model import LogisticRegression\n",
        "from sklearn.preprocessing import StandardScaler\n",
        "from sklearn import metrics\n",
        "\n",
        "%matplotlib inline\n",
        "\n",
        "from nltk.tokenize.api import TokenizerI\n",
        "\n",
        "# import TweetTokenizer() method from nltk\n",
        "from nltk.tokenize import TweetTokenizer\n",
        "\n",
        "from sklearn.model_selection import cross_val_score\n",
        "from sklearn.model_selection import (\n",
        "    train_test_split,\n",
        "    GridSearchCV,\n",
        "    RandomizedSearchCV,\n",
        "    StratifiedKFold,\n",
        "    cross_val_score,\n",
        ")\n",
        "\n",
        "from sklearn.base import BaseEstimator, TransformerMixin\n",
        "from sklearn.feature_extraction.text import TfidfVectorizer\n",
        "from sklearn.feature_extraction.text import CountVectorizer\n",
        "\n",
        "\n",
        "# Libraries to get different metric scores\n",
        "from sklearn import metrics\n",
        "from sklearn.metrics import (\n",
        "    confusion_matrix,\n",
        "    accuracy_score,\n",
        "    precision_score,\n",
        "    recall_score,\n",
        "    f1_score,\n",
        "    classification_report,\n",
        ")\n",
        "\n",
        "# To oversample data\n",
        "from imblearn.over_sampling import SMOTE\n"
      ]
    },
    {
      "cell_type": "code",
      "execution_count": 158,
      "metadata": {},
      "outputs": [
        {
          "name": "stdout",
          "output_type": "stream",
          "text": [
            "Collecting package metadata (current_repodata.json): ...working... done\n",
            "Solving environment: ...working... done\n",
            "\n",
            "# All requested packages already installed.\n",
            "\n",
            "Retrieving notices: ...working... done\n",
            "\n",
            "Note: you may need to restart the kernel to use updated packages.\n"
          ]
        }
      ],
      "source": [
        "conda install -c conda-forge imbalanced-learn\n"
      ]
    },
    {
      "cell_type": "code",
      "execution_count": 159,
      "metadata": {},
      "outputs": [
        {
          "name": "stdout",
          "output_type": "stream",
          "text": [
            "Requirement already satisfied: Tensorflow in c:\\users\\hp\\anaconda3\\anaconda\\lib\\site-packages (2.10.0)\n",
            "Requirement already satisfied: keras-preprocessing>=1.1.1 in c:\\users\\hp\\anaconda3\\anaconda\\lib\\site-packages (from Tensorflow) (1.1.2)\n",
            "Requirement already satisfied: h5py>=2.9.0 in c:\\users\\hp\\anaconda3\\anaconda\\lib\\site-packages (from Tensorflow) (2.10.0)\n",
            "Requirement already satisfied: protobuf<3.20,>=3.9.2 in c:\\users\\hp\\anaconda3\\anaconda\\lib\\site-packages (from Tensorflow) (3.19.6)\n",
            "Requirement already satisfied: typing-extensions>=3.6.6 in c:\\users\\hp\\anaconda3\\anaconda\\lib\\site-packages (from Tensorflow) (4.4.0)\n",
            "Requirement already satisfied: grpcio<2.0,>=1.24.3 in c:\\users\\hp\\anaconda3\\anaconda\\lib\\site-packages (from Tensorflow) (1.50.0)\n",
            "Requirement already satisfied: termcolor>=1.1.0 in c:\\users\\hp\\anaconda3\\anaconda\\lib\\site-packages (from Tensorflow) (2.1.0)\n",
            "Requirement already satisfied: six>=1.12.0 in c:\\users\\hp\\anaconda3\\anaconda\\lib\\site-packages (from Tensorflow) (1.15.0)\n",
            "Requirement already satisfied: packaging in c:\\users\\hp\\anaconda3\\anaconda\\lib\\site-packages (from Tensorflow) (21.3)\n",
            "Requirement already satisfied: absl-py>=1.0.0 in c:\\users\\hp\\anaconda3\\anaconda\\lib\\site-packages (from Tensorflow) (1.3.0)\n",
            "Requirement already satisfied: flatbuffers>=2.0 in c:\\users\\hp\\anaconda3\\anaconda\\lib\\site-packages (from Tensorflow) (22.10.26)\n",
            "Requirement already satisfied: tensorboard<2.11,>=2.10 in c:\\users\\hp\\anaconda3\\anaconda\\lib\\site-packages (from Tensorflow) (2.10.1)\n",
            "Requirement already satisfied: astunparse>=1.6.0 in c:\\users\\hp\\anaconda3\\anaconda\\lib\\site-packages (from Tensorflow) (1.6.3)\n",
            "Requirement already satisfied: gast<=0.4.0,>=0.2.1 in c:\\users\\hp\\anaconda3\\anaconda\\lib\\site-packages (from Tensorflow) (0.4.0)\n",
            "Requirement already satisfied: opt-einsum>=2.3.2 in c:\\users\\hp\\anaconda3\\anaconda\\lib\\site-packages (from Tensorflow) (3.3.0)\n",
            "Requirement already satisfied: setuptools in c:\\users\\hp\\anaconda3\\anaconda\\lib\\site-packages (from Tensorflow) (50.3.1.post20201107)\n",
            "Requirement already satisfied: tensorflow-io-gcs-filesystem>=0.23.1 in c:\\users\\hp\\anaconda3\\anaconda\\lib\\site-packages (from Tensorflow) (0.27.0)\n",
            "Requirement already satisfied: libclang>=13.0.0 in c:\\users\\hp\\anaconda3\\anaconda\\lib\\site-packages (from Tensorflow) (14.0.6)\n",
            "Requirement already satisfied: google-pasta>=0.1.1 in c:\\users\\hp\\anaconda3\\anaconda\\lib\\site-packages (from Tensorflow) (0.2.0)\n",
            "Requirement already satisfied: wrapt>=1.11.0 in c:\\users\\hp\\anaconda3\\anaconda\\lib\\site-packages (from Tensorflow) (1.11.2)\n",
            "Requirement already satisfied: keras<2.11,>=2.10.0 in c:\\users\\hp\\anaconda3\\anaconda\\lib\\site-packages (from Tensorflow) (2.10.0)\n",
            "Requirement already satisfied: numpy>=1.20 in c:\\users\\hp\\anaconda3\\anaconda\\lib\\site-packages (from Tensorflow) (1.23.4)\n",
            "Requirement already satisfied: tensorflow-estimator<2.11,>=2.10.0 in c:\\users\\hp\\anaconda3\\anaconda\\lib\\site-packages (from Tensorflow) (2.10.0)\n",
            "Requirement already satisfied: pyparsing!=3.0.5,>=2.0.2 in c:\\users\\hp\\anaconda3\\anaconda\\lib\\site-packages (from packaging->Tensorflow) (2.4.7)\n",
            "Requirement already satisfied: wheel>=0.26 in c:\\users\\hp\\anaconda3\\anaconda\\lib\\site-packages (from tensorboard<2.11,>=2.10->Tensorflow) (0.35.1)\n",
            "Requirement already satisfied: tensorboard-plugin-wit>=1.6.0 in c:\\users\\hp\\anaconda3\\anaconda\\lib\\site-packages (from tensorboard<2.11,>=2.10->Tensorflow) (1.8.1)\n",
            "Requirement already satisfied: google-auth<3,>=1.6.3 in c:\\users\\hp\\anaconda3\\anaconda\\lib\\site-packages (from tensorboard<2.11,>=2.10->Tensorflow) (2.14.1)\n",
            "Requirement already satisfied: werkzeug>=1.0.1 in c:\\users\\hp\\anaconda3\\anaconda\\lib\\site-packages (from tensorboard<2.11,>=2.10->Tensorflow) (1.0.1)\n",
            "Requirement already satisfied: google-auth-oauthlib<0.5,>=0.4.1 in c:\\users\\hp\\anaconda3\\anaconda\\lib\\site-packages (from tensorboard<2.11,>=2.10->Tensorflow) (0.4.6)\n",
            "Requirement already satisfied: requests<3,>=2.21.0 in c:\\users\\hp\\anaconda3\\anaconda\\lib\\site-packages (from tensorboard<2.11,>=2.10->Tensorflow) (2.24.0)\n",
            "Requirement already satisfied: markdown>=2.6.8 in c:\\users\\hp\\anaconda3\\anaconda\\lib\\site-packages (from tensorboard<2.11,>=2.10->Tensorflow) (3.4.1)\n",
            "Requirement already satisfied: tensorboard-data-server<0.7.0,>=0.6.0 in c:\\users\\hp\\anaconda3\\anaconda\\lib\\site-packages (from tensorboard<2.11,>=2.10->Tensorflow) (0.6.1)\n",
            "Requirement already satisfied: cachetools<6.0,>=2.0.0 in c:\\users\\hp\\anaconda3\\anaconda\\lib\\site-packages (from google-auth<3,>=1.6.3->tensorboard<2.11,>=2.10->Tensorflow) (5.2.0)\n",
            "Requirement already satisfied: pyasn1-modules>=0.2.1 in c:\\users\\hp\\anaconda3\\anaconda\\lib\\site-packages (from google-auth<3,>=1.6.3->tensorboard<2.11,>=2.10->Tensorflow) (0.2.8)\n",
            "Requirement already satisfied: rsa<5,>=3.1.4; python_version >= \"3.6\" in c:\\users\\hp\\anaconda3\\anaconda\\lib\\site-packages (from google-auth<3,>=1.6.3->tensorboard<2.11,>=2.10->Tensorflow) (4.9)\n",
            "Requirement already satisfied: requests-oauthlib>=0.7.0 in c:\\users\\hp\\anaconda3\\anaconda\\lib\\site-packages (from google-auth-oauthlib<0.5,>=0.4.1->tensorboard<2.11,>=2.10->Tensorflow) (1.3.1)\n",
            "Requirement already satisfied: urllib3!=1.25.0,!=1.25.1,<1.26,>=1.21.1 in c:\\users\\hp\\anaconda3\\anaconda\\lib\\site-packages (from requests<3,>=2.21.0->tensorboard<2.11,>=2.10->Tensorflow) (1.25.11)\n",
            "Requirement already satisfied: certifi>=2017.4.17 in c:\\users\\hp\\anaconda3\\anaconda\\lib\\site-packages (from requests<3,>=2.21.0->tensorboard<2.11,>=2.10->Tensorflow) (2020.6.20)\n",
            "Requirement already satisfied: idna<3,>=2.5 in c:\\users\\hp\\anaconda3\\anaconda\\lib\\site-packages (from requests<3,>=2.21.0->tensorboard<2.11,>=2.10->Tensorflow) (2.10)\n",
            "Requirement already satisfied: chardet<4,>=3.0.2 in c:\\users\\hp\\anaconda3\\anaconda\\lib\\site-packages (from requests<3,>=2.21.0->tensorboard<2.11,>=2.10->Tensorflow) (3.0.4)\n",
            "Requirement already satisfied: importlib-metadata>=4.4; python_version < \"3.10\" in c:\\users\\hp\\anaconda3\\anaconda\\lib\\site-packages (from markdown>=2.6.8->tensorboard<2.11,>=2.10->Tensorflow) (5.0.0)\n",
            "Requirement already satisfied: pyasn1<0.5.0,>=0.4.6 in c:\\users\\hp\\anaconda3\\anaconda\\lib\\site-packages (from pyasn1-modules>=0.2.1->google-auth<3,>=1.6.3->tensorboard<2.11,>=2.10->Tensorflow) (0.4.8)\n",
            "Requirement already satisfied: oauthlib>=3.0.0 in c:\\users\\hp\\anaconda3\\anaconda\\lib\\site-packages (from requests-oauthlib>=0.7.0->google-auth-oauthlib<0.5,>=0.4.1->tensorboard<2.11,>=2.10->Tensorflow) (3.2.2)\n",
            "Requirement already satisfied: zipp>=0.5 in c:\\users\\hp\\anaconda3\\anaconda\\lib\\site-packages (from importlib-metadata>=4.4; python_version < \"3.10\"->markdown>=2.6.8->tensorboard<2.11,>=2.10->Tensorflow) (3.4.0)\n",
            "Note: you may need to restart the kernel to use updated packages.\n"
          ]
        }
      ],
      "source": [
        "pip install Tensorflow\n"
      ]
    },
    {
      "cell_type": "code",
      "execution_count": 160,
      "metadata": {},
      "outputs": [
        {
          "name": "stdout",
          "output_type": "stream",
          "text": [
            "Requirement already satisfied: imblearn in c:\\users\\hp\\anaconda3\\anaconda\\lib\\site-packages (0.0)\n",
            "Requirement already satisfied: imbalanced-learn in c:\\users\\hp\\anaconda3\\anaconda\\lib\\site-packages (from imblearn) (0.7.0)\n",
            "Requirement already satisfied: joblib>=0.11 in c:\\users\\hp\\anaconda3\\anaconda\\lib\\site-packages (from imbalanced-learn->imblearn) (0.17.0)\n",
            "Requirement already satisfied: scikit-learn>=0.23 in c:\\users\\hp\\anaconda3\\anaconda\\lib\\site-packages (from imbalanced-learn->imblearn) (0.23.2)Note: you may need to restart the kernel to use updated packages.\n",
            "Requirement already satisfied: numpy>=1.13.3 in c:\\users\\hp\\anaconda3\\anaconda\\lib\\site-packages (from imbalanced-learn->imblearn) (1.23.4)\n",
            "Requirement already satisfied: scipy>=0.19.1 in c:\\users\\hp\\anaconda3\\anaconda\\lib\\site-packages (from imbalanced-learn->imblearn) (1.5.2)\n",
            "Requirement already satisfied: threadpoolctl>=2.0.0 in c:\\users\\hp\\anaconda3\\anaconda\\lib\\site-packages (from scikit-learn>=0.23->imbalanced-learn->imblearn) (2.1.0)\n",
            "\n"
          ]
        }
      ],
      "source": [
        "pip install imblearn \n"
      ]
    },
    {
      "cell_type": "code",
      "execution_count": 161,
      "metadata": {},
      "outputs": [
        {
          "name": "stdout",
          "output_type": "stream",
          "text": [
            "Note: you may need to restart the kernel to use updated packages.\n"
          ]
        },
        {
          "name": "stderr",
          "output_type": "stream",
          "text": [
            "ERROR: unknown command \":\"\n",
            "\n"
          ]
        }
      ],
      "source": [
        "pip: pip install -U imbalanced-learn"
      ]
    },
    {
      "cell_type": "code",
      "execution_count": 162,
      "metadata": {},
      "outputs": [
        {
          "name": "stdout",
          "output_type": "stream",
          "text": [
            "Collecting package metadata (current_repodata.json): ...working... done\n",
            "Solving environment: ...working... done\n",
            "\n",
            "# All requested packages already installed.\n",
            "\n",
            "Retrieving notices: ...working... done\n",
            "\n",
            "Note: you may need to restart the kernel to use updated packages.\n"
          ]
        }
      ],
      "source": [
        "conda install -c glemaitre imbalanced-learn"
      ]
    },
    {
      "cell_type": "code",
      "execution_count": 163,
      "metadata": {
        "id": "ikvxJtjoLced"
      },
      "outputs": [],
      "source": [
        "# Improving visual appearance of graphs\n",
        "sns.set(rc={'figure.figsize':(13, 10)})\n",
        "\n",
        "# Ensure all columns are displayed\n",
        "pd.pandas.set_option('display.max_columns', None)"
      ]
    },
    {
      "cell_type": "code",
      "execution_count": 164,
      "metadata": {
        "colab": {
          "base_uri": "https://localhost:8080/",
          "height": 206
        },
        "id": "aMDcom_RLebQ",
        "outputId": "7152d7d9-fe24-4f52-b2dd-0220f490e917"
      },
      "outputs": [
        {
          "data": {
            "text/html": [
              "<div>\n",
              "<style scoped>\n",
              "    .dataframe tbody tr th:only-of-type {\n",
              "        vertical-align: middle;\n",
              "    }\n",
              "\n",
              "    .dataframe tbody tr th {\n",
              "        vertical-align: top;\n",
              "    }\n",
              "\n",
              "    .dataframe thead th {\n",
              "        text-align: right;\n",
              "    }\n",
              "</style>\n",
              "<table border=\"1\" class=\"dataframe\">\n",
              "  <thead>\n",
              "    <tr style=\"text-align: right;\">\n",
              "      <th></th>\n",
              "      <th>id</th>\n",
              "      <th>chol</th>\n",
              "      <th>stab.glu</th>\n",
              "      <th>hdl</th>\n",
              "      <th>ratio</th>\n",
              "      <th>glyhb</th>\n",
              "      <th>age</th>\n",
              "      <th>gender</th>\n",
              "      <th>height</th>\n",
              "      <th>weight</th>\n",
              "      <th>frame</th>\n",
              "      <th>bp.1s</th>\n",
              "      <th>bp.1d</th>\n",
              "      <th>waist</th>\n",
              "      <th>hip</th>\n",
              "    </tr>\n",
              "  </thead>\n",
              "  <tbody>\n",
              "    <tr>\n",
              "      <th>0</th>\n",
              "      <td>1000</td>\n",
              "      <td>203.0</td>\n",
              "      <td>82</td>\n",
              "      <td>56.0</td>\n",
              "      <td>3.6</td>\n",
              "      <td>4.31</td>\n",
              "      <td>46</td>\n",
              "      <td>female</td>\n",
              "      <td>62.0</td>\n",
              "      <td>121.0</td>\n",
              "      <td>medium</td>\n",
              "      <td>118.0</td>\n",
              "      <td>59.0</td>\n",
              "      <td>29.0</td>\n",
              "      <td>38.0</td>\n",
              "    </tr>\n",
              "    <tr>\n",
              "      <th>1</th>\n",
              "      <td>1001</td>\n",
              "      <td>165.0</td>\n",
              "      <td>97</td>\n",
              "      <td>24.0</td>\n",
              "      <td>6.9</td>\n",
              "      <td>4.44</td>\n",
              "      <td>29</td>\n",
              "      <td>female</td>\n",
              "      <td>64.0</td>\n",
              "      <td>218.0</td>\n",
              "      <td>large</td>\n",
              "      <td>112.0</td>\n",
              "      <td>68.0</td>\n",
              "      <td>46.0</td>\n",
              "      <td>48.0</td>\n",
              "    </tr>\n",
              "    <tr>\n",
              "      <th>2</th>\n",
              "      <td>1002</td>\n",
              "      <td>228.0</td>\n",
              "      <td>92</td>\n",
              "      <td>37.0</td>\n",
              "      <td>6.2</td>\n",
              "      <td>4.64</td>\n",
              "      <td>58</td>\n",
              "      <td>female</td>\n",
              "      <td>61.0</td>\n",
              "      <td>256.0</td>\n",
              "      <td>large</td>\n",
              "      <td>190.0</td>\n",
              "      <td>92.0</td>\n",
              "      <td>49.0</td>\n",
              "      <td>57.0</td>\n",
              "    </tr>\n",
              "    <tr>\n",
              "      <th>3</th>\n",
              "      <td>1003</td>\n",
              "      <td>78.0</td>\n",
              "      <td>93</td>\n",
              "      <td>12.0</td>\n",
              "      <td>6.5</td>\n",
              "      <td>4.63</td>\n",
              "      <td>67</td>\n",
              "      <td>male</td>\n",
              "      <td>67.0</td>\n",
              "      <td>119.0</td>\n",
              "      <td>large</td>\n",
              "      <td>110.0</td>\n",
              "      <td>50.0</td>\n",
              "      <td>33.0</td>\n",
              "      <td>38.0</td>\n",
              "    </tr>\n",
              "    <tr>\n",
              "      <th>4</th>\n",
              "      <td>1005</td>\n",
              "      <td>249.0</td>\n",
              "      <td>90</td>\n",
              "      <td>28.0</td>\n",
              "      <td>8.9</td>\n",
              "      <td>7.72</td>\n",
              "      <td>64</td>\n",
              "      <td>male</td>\n",
              "      <td>68.0</td>\n",
              "      <td>183.0</td>\n",
              "      <td>medium</td>\n",
              "      <td>138.0</td>\n",
              "      <td>80.0</td>\n",
              "      <td>44.0</td>\n",
              "      <td>41.0</td>\n",
              "    </tr>\n",
              "  </tbody>\n",
              "</table>\n",
              "</div>"
            ],
            "text/plain": [
              "     id   chol  stab.glu   hdl  ratio  glyhb  age  gender  height  weight  \\\n",
              "0  1000  203.0        82  56.0    3.6   4.31   46  female    62.0   121.0   \n",
              "1  1001  165.0        97  24.0    6.9   4.44   29  female    64.0   218.0   \n",
              "2  1002  228.0        92  37.0    6.2   4.64   58  female    61.0   256.0   \n",
              "3  1003   78.0        93  12.0    6.5   4.63   67    male    67.0   119.0   \n",
              "4  1005  249.0        90  28.0    8.9   7.72   64    male    68.0   183.0   \n",
              "\n",
              "    frame  bp.1s  bp.1d  waist   hip  \n",
              "0  medium  118.0   59.0   29.0  38.0  \n",
              "1   large  112.0   68.0   46.0  48.0  \n",
              "2   large  190.0   92.0   49.0  57.0  \n",
              "3   large  110.0   50.0   33.0  38.0  \n",
              "4  medium  138.0   80.0   44.0  41.0  "
            ]
          },
          "execution_count": 164,
          "metadata": {},
          "output_type": "execute_result"
        }
      ],
      "source": [
        "#load data into a dataframe\n",
        "diabetes = pd.read_csv('diabetes.csv')\n",
        "diabetes.head()"
      ]
    },
    {
      "cell_type": "markdown",
      "metadata": {},
      "source": [
        "# 3) Data exploration"
      ]
    },
    {
      "cell_type": "markdown",
      "metadata": {},
      "source": [
        "**Attribute information**\n",
        "\n",
        "The data set contains the following attributes:\n",
        "\n",
        "* id: Identifies patients by number\n",
        "* chol: Total cholesterol\n",
        "* stab.glu: Glucose - Fasting blood sugar\n",
        "* hdl: HDL or good cholesterol\n",
        "* ratio: Chol/HDL - Ratio of total cholesterol to good cholesterol. Desirable result is < 5\n",
        "* glyhb: Hemoglobin A1c. HbA1c equal to greater to 6.5 indicates the person has diabetes.\n",
        "* age\n",
        "* gender\n",
        "* height: Measured in inches\n",
        "* weight: Measured in pounds (lbs)\n",
        "* frame: Body frame (small/medium/large)\n",
        "* bp.1s: BP Systolic - The upper number of blood pressure\n",
        "* bp.1d: BP Diastolic - The lower number of blood pressure\n",
        "* waist: Measured in inches\n",
        "* hip: Measured in inches"
      ]
    },
    {
      "cell_type": "markdown",
      "metadata": {},
      "source": [
        "**Previewing the top of our dataset**"
      ]
    },
    {
      "cell_type": "code",
      "execution_count": 165,
      "metadata": {},
      "outputs": [
        {
          "data": {
            "text/html": [
              "<div>\n",
              "<style scoped>\n",
              "    .dataframe tbody tr th:only-of-type {\n",
              "        vertical-align: middle;\n",
              "    }\n",
              "\n",
              "    .dataframe tbody tr th {\n",
              "        vertical-align: top;\n",
              "    }\n",
              "\n",
              "    .dataframe thead th {\n",
              "        text-align: right;\n",
              "    }\n",
              "</style>\n",
              "<table border=\"1\" class=\"dataframe\">\n",
              "  <thead>\n",
              "    <tr style=\"text-align: right;\">\n",
              "      <th></th>\n",
              "      <th>id</th>\n",
              "      <th>chol</th>\n",
              "      <th>stab.glu</th>\n",
              "      <th>hdl</th>\n",
              "      <th>ratio</th>\n",
              "      <th>glyhb</th>\n",
              "      <th>age</th>\n",
              "      <th>gender</th>\n",
              "      <th>height</th>\n",
              "      <th>weight</th>\n",
              "      <th>frame</th>\n",
              "      <th>bp.1s</th>\n",
              "      <th>bp.1d</th>\n",
              "      <th>waist</th>\n",
              "      <th>hip</th>\n",
              "    </tr>\n",
              "  </thead>\n",
              "  <tbody>\n",
              "    <tr>\n",
              "      <th>0</th>\n",
              "      <td>1000</td>\n",
              "      <td>203.0</td>\n",
              "      <td>82</td>\n",
              "      <td>56.0</td>\n",
              "      <td>3.6</td>\n",
              "      <td>4.31</td>\n",
              "      <td>46</td>\n",
              "      <td>female</td>\n",
              "      <td>62.0</td>\n",
              "      <td>121.0</td>\n",
              "      <td>medium</td>\n",
              "      <td>118.0</td>\n",
              "      <td>59.0</td>\n",
              "      <td>29.0</td>\n",
              "      <td>38.0</td>\n",
              "    </tr>\n",
              "    <tr>\n",
              "      <th>1</th>\n",
              "      <td>1001</td>\n",
              "      <td>165.0</td>\n",
              "      <td>97</td>\n",
              "      <td>24.0</td>\n",
              "      <td>6.9</td>\n",
              "      <td>4.44</td>\n",
              "      <td>29</td>\n",
              "      <td>female</td>\n",
              "      <td>64.0</td>\n",
              "      <td>218.0</td>\n",
              "      <td>large</td>\n",
              "      <td>112.0</td>\n",
              "      <td>68.0</td>\n",
              "      <td>46.0</td>\n",
              "      <td>48.0</td>\n",
              "    </tr>\n",
              "    <tr>\n",
              "      <th>2</th>\n",
              "      <td>1002</td>\n",
              "      <td>228.0</td>\n",
              "      <td>92</td>\n",
              "      <td>37.0</td>\n",
              "      <td>6.2</td>\n",
              "      <td>4.64</td>\n",
              "      <td>58</td>\n",
              "      <td>female</td>\n",
              "      <td>61.0</td>\n",
              "      <td>256.0</td>\n",
              "      <td>large</td>\n",
              "      <td>190.0</td>\n",
              "      <td>92.0</td>\n",
              "      <td>49.0</td>\n",
              "      <td>57.0</td>\n",
              "    </tr>\n",
              "    <tr>\n",
              "      <th>3</th>\n",
              "      <td>1003</td>\n",
              "      <td>78.0</td>\n",
              "      <td>93</td>\n",
              "      <td>12.0</td>\n",
              "      <td>6.5</td>\n",
              "      <td>4.63</td>\n",
              "      <td>67</td>\n",
              "      <td>male</td>\n",
              "      <td>67.0</td>\n",
              "      <td>119.0</td>\n",
              "      <td>large</td>\n",
              "      <td>110.0</td>\n",
              "      <td>50.0</td>\n",
              "      <td>33.0</td>\n",
              "      <td>38.0</td>\n",
              "    </tr>\n",
              "    <tr>\n",
              "      <th>4</th>\n",
              "      <td>1005</td>\n",
              "      <td>249.0</td>\n",
              "      <td>90</td>\n",
              "      <td>28.0</td>\n",
              "      <td>8.9</td>\n",
              "      <td>7.72</td>\n",
              "      <td>64</td>\n",
              "      <td>male</td>\n",
              "      <td>68.0</td>\n",
              "      <td>183.0</td>\n",
              "      <td>medium</td>\n",
              "      <td>138.0</td>\n",
              "      <td>80.0</td>\n",
              "      <td>44.0</td>\n",
              "      <td>41.0</td>\n",
              "    </tr>\n",
              "  </tbody>\n",
              "</table>\n",
              "</div>"
            ],
            "text/plain": [
              "     id   chol  stab.glu   hdl  ratio  glyhb  age  gender  height  weight  \\\n",
              "0  1000  203.0        82  56.0    3.6   4.31   46  female    62.0   121.0   \n",
              "1  1001  165.0        97  24.0    6.9   4.44   29  female    64.0   218.0   \n",
              "2  1002  228.0        92  37.0    6.2   4.64   58  female    61.0   256.0   \n",
              "3  1003   78.0        93  12.0    6.5   4.63   67    male    67.0   119.0   \n",
              "4  1005  249.0        90  28.0    8.9   7.72   64    male    68.0   183.0   \n",
              "\n",
              "    frame  bp.1s  bp.1d  waist   hip  \n",
              "0  medium  118.0   59.0   29.0  38.0  \n",
              "1   large  112.0   68.0   46.0  48.0  \n",
              "2   large  190.0   92.0   49.0  57.0  \n",
              "3   large  110.0   50.0   33.0  38.0  \n",
              "4  medium  138.0   80.0   44.0  41.0  "
            ]
          },
          "execution_count": 165,
          "metadata": {},
          "output_type": "execute_result"
        }
      ],
      "source": [
        "diabetes.head()"
      ]
    },
    {
      "cell_type": "markdown",
      "metadata": {},
      "source": [
        "**Previewing the bottom of our dataset**"
      ]
    },
    {
      "cell_type": "code",
      "execution_count": 166,
      "metadata": {},
      "outputs": [
        {
          "data": {
            "text/html": [
              "<div>\n",
              "<style scoped>\n",
              "    .dataframe tbody tr th:only-of-type {\n",
              "        vertical-align: middle;\n",
              "    }\n",
              "\n",
              "    .dataframe tbody tr th {\n",
              "        vertical-align: top;\n",
              "    }\n",
              "\n",
              "    .dataframe thead th {\n",
              "        text-align: right;\n",
              "    }\n",
              "</style>\n",
              "<table border=\"1\" class=\"dataframe\">\n",
              "  <thead>\n",
              "    <tr style=\"text-align: right;\">\n",
              "      <th></th>\n",
              "      <th>id</th>\n",
              "      <th>chol</th>\n",
              "      <th>stab.glu</th>\n",
              "      <th>hdl</th>\n",
              "      <th>ratio</th>\n",
              "      <th>glyhb</th>\n",
              "      <th>age</th>\n",
              "      <th>gender</th>\n",
              "      <th>height</th>\n",
              "      <th>weight</th>\n",
              "      <th>frame</th>\n",
              "      <th>bp.1s</th>\n",
              "      <th>bp.1d</th>\n",
              "      <th>waist</th>\n",
              "      <th>hip</th>\n",
              "    </tr>\n",
              "  </thead>\n",
              "  <tbody>\n",
              "    <tr>\n",
              "      <th>398</th>\n",
              "      <td>41506</td>\n",
              "      <td>296.0</td>\n",
              "      <td>369</td>\n",
              "      <td>46.0</td>\n",
              "      <td>6.4</td>\n",
              "      <td>16.110001</td>\n",
              "      <td>53</td>\n",
              "      <td>male</td>\n",
              "      <td>69.0</td>\n",
              "      <td>173.0</td>\n",
              "      <td>medium</td>\n",
              "      <td>138.0</td>\n",
              "      <td>94.0</td>\n",
              "      <td>35.0</td>\n",
              "      <td>39.0</td>\n",
              "    </tr>\n",
              "    <tr>\n",
              "      <th>399</th>\n",
              "      <td>41507</td>\n",
              "      <td>284.0</td>\n",
              "      <td>89</td>\n",
              "      <td>54.0</td>\n",
              "      <td>5.3</td>\n",
              "      <td>4.390000</td>\n",
              "      <td>51</td>\n",
              "      <td>female</td>\n",
              "      <td>63.0</td>\n",
              "      <td>154.0</td>\n",
              "      <td>medium</td>\n",
              "      <td>140.0</td>\n",
              "      <td>100.0</td>\n",
              "      <td>32.0</td>\n",
              "      <td>43.0</td>\n",
              "    </tr>\n",
              "    <tr>\n",
              "      <th>400</th>\n",
              "      <td>41510</td>\n",
              "      <td>194.0</td>\n",
              "      <td>269</td>\n",
              "      <td>38.0</td>\n",
              "      <td>5.1</td>\n",
              "      <td>13.630000</td>\n",
              "      <td>29</td>\n",
              "      <td>female</td>\n",
              "      <td>69.0</td>\n",
              "      <td>167.0</td>\n",
              "      <td>small</td>\n",
              "      <td>120.0</td>\n",
              "      <td>70.0</td>\n",
              "      <td>33.0</td>\n",
              "      <td>40.0</td>\n",
              "    </tr>\n",
              "    <tr>\n",
              "      <th>401</th>\n",
              "      <td>41752</td>\n",
              "      <td>199.0</td>\n",
              "      <td>76</td>\n",
              "      <td>52.0</td>\n",
              "      <td>3.8</td>\n",
              "      <td>4.490000</td>\n",
              "      <td>41</td>\n",
              "      <td>female</td>\n",
              "      <td>63.0</td>\n",
              "      <td>197.0</td>\n",
              "      <td>medium</td>\n",
              "      <td>120.0</td>\n",
              "      <td>78.0</td>\n",
              "      <td>41.0</td>\n",
              "      <td>48.0</td>\n",
              "    </tr>\n",
              "    <tr>\n",
              "      <th>402</th>\n",
              "      <td>41756</td>\n",
              "      <td>159.0</td>\n",
              "      <td>88</td>\n",
              "      <td>79.0</td>\n",
              "      <td>2.0</td>\n",
              "      <td>NaN</td>\n",
              "      <td>68</td>\n",
              "      <td>female</td>\n",
              "      <td>64.0</td>\n",
              "      <td>220.0</td>\n",
              "      <td>medium</td>\n",
              "      <td>100.0</td>\n",
              "      <td>72.0</td>\n",
              "      <td>49.0</td>\n",
              "      <td>58.0</td>\n",
              "    </tr>\n",
              "  </tbody>\n",
              "</table>\n",
              "</div>"
            ],
            "text/plain": [
              "        id   chol  stab.glu   hdl  ratio      glyhb  age  gender  height  \\\n",
              "398  41506  296.0       369  46.0    6.4  16.110001   53    male    69.0   \n",
              "399  41507  284.0        89  54.0    5.3   4.390000   51  female    63.0   \n",
              "400  41510  194.0       269  38.0    5.1  13.630000   29  female    69.0   \n",
              "401  41752  199.0        76  52.0    3.8   4.490000   41  female    63.0   \n",
              "402  41756  159.0        88  79.0    2.0        NaN   68  female    64.0   \n",
              "\n",
              "     weight   frame  bp.1s  bp.1d  waist   hip  \n",
              "398   173.0  medium  138.0   94.0   35.0  39.0  \n",
              "399   154.0  medium  140.0  100.0   32.0  43.0  \n",
              "400   167.0   small  120.0   70.0   33.0  40.0  \n",
              "401   197.0  medium  120.0   78.0   41.0  48.0  \n",
              "402   220.0  medium  100.0   72.0   49.0  58.0  "
            ]
          },
          "execution_count": 166,
          "metadata": {},
          "output_type": "execute_result"
        }
      ],
      "source": [
        "diabetes.tail()"
      ]
    },
    {
      "cell_type": "code",
      "execution_count": 167,
      "metadata": {
        "colab": {
          "base_uri": "https://localhost:8080/",
          "height": 364
        },
        "id": "AmS5KVuROaQL",
        "outputId": "07baf7ad-7a6d-4267-905c-9df10d01bc54"
      },
      "outputs": [
        {
          "data": {
            "text/html": [
              "<div>\n",
              "<style scoped>\n",
              "    .dataframe tbody tr th:only-of-type {\n",
              "        vertical-align: middle;\n",
              "    }\n",
              "\n",
              "    .dataframe tbody tr th {\n",
              "        vertical-align: top;\n",
              "    }\n",
              "\n",
              "    .dataframe thead th {\n",
              "        text-align: right;\n",
              "    }\n",
              "</style>\n",
              "<table border=\"1\" class=\"dataframe\">\n",
              "  <thead>\n",
              "    <tr style=\"text-align: right;\">\n",
              "      <th></th>\n",
              "      <th>id</th>\n",
              "      <th>chol</th>\n",
              "      <th>stab.glu</th>\n",
              "      <th>hdl</th>\n",
              "      <th>ratio</th>\n",
              "      <th>glyhb</th>\n",
              "      <th>age</th>\n",
              "      <th>height</th>\n",
              "      <th>weight</th>\n",
              "      <th>bp.1s</th>\n",
              "      <th>bp.1d</th>\n",
              "      <th>waist</th>\n",
              "      <th>hip</th>\n",
              "    </tr>\n",
              "  </thead>\n",
              "  <tbody>\n",
              "    <tr>\n",
              "      <th>count</th>\n",
              "      <td>403.000000</td>\n",
              "      <td>402.000000</td>\n",
              "      <td>403.000000</td>\n",
              "      <td>402.000000</td>\n",
              "      <td>402.000000</td>\n",
              "      <td>390.000000</td>\n",
              "      <td>403.000000</td>\n",
              "      <td>398.000000</td>\n",
              "      <td>402.000000</td>\n",
              "      <td>398.000000</td>\n",
              "      <td>398.000000</td>\n",
              "      <td>401.000000</td>\n",
              "      <td>401.000000</td>\n",
              "    </tr>\n",
              "    <tr>\n",
              "      <th>mean</th>\n",
              "      <td>15978.310174</td>\n",
              "      <td>207.845771</td>\n",
              "      <td>106.672457</td>\n",
              "      <td>50.445274</td>\n",
              "      <td>4.521642</td>\n",
              "      <td>5.589769</td>\n",
              "      <td>46.851117</td>\n",
              "      <td>66.020101</td>\n",
              "      <td>177.592040</td>\n",
              "      <td>136.904523</td>\n",
              "      <td>83.321608</td>\n",
              "      <td>37.900249</td>\n",
              "      <td>43.039900</td>\n",
              "    </tr>\n",
              "    <tr>\n",
              "      <th>std</th>\n",
              "      <td>11881.122124</td>\n",
              "      <td>44.445557</td>\n",
              "      <td>53.076655</td>\n",
              "      <td>17.262626</td>\n",
              "      <td>1.727886</td>\n",
              "      <td>2.242595</td>\n",
              "      <td>16.312333</td>\n",
              "      <td>3.918515</td>\n",
              "      <td>40.340666</td>\n",
              "      <td>22.741033</td>\n",
              "      <td>13.589227</td>\n",
              "      <td>5.729313</td>\n",
              "      <td>5.656713</td>\n",
              "    </tr>\n",
              "    <tr>\n",
              "      <th>min</th>\n",
              "      <td>1000.000000</td>\n",
              "      <td>78.000000</td>\n",
              "      <td>48.000000</td>\n",
              "      <td>12.000000</td>\n",
              "      <td>1.500000</td>\n",
              "      <td>2.680000</td>\n",
              "      <td>19.000000</td>\n",
              "      <td>52.000000</td>\n",
              "      <td>99.000000</td>\n",
              "      <td>90.000000</td>\n",
              "      <td>48.000000</td>\n",
              "      <td>26.000000</td>\n",
              "      <td>30.000000</td>\n",
              "    </tr>\n",
              "    <tr>\n",
              "      <th>25%</th>\n",
              "      <td>4792.500000</td>\n",
              "      <td>179.000000</td>\n",
              "      <td>81.000000</td>\n",
              "      <td>38.000000</td>\n",
              "      <td>3.200000</td>\n",
              "      <td>4.380000</td>\n",
              "      <td>34.000000</td>\n",
              "      <td>63.000000</td>\n",
              "      <td>151.000000</td>\n",
              "      <td>121.250000</td>\n",
              "      <td>75.000000</td>\n",
              "      <td>33.000000</td>\n",
              "      <td>39.000000</td>\n",
              "    </tr>\n",
              "    <tr>\n",
              "      <th>50%</th>\n",
              "      <td>15766.000000</td>\n",
              "      <td>204.000000</td>\n",
              "      <td>89.000000</td>\n",
              "      <td>46.000000</td>\n",
              "      <td>4.200000</td>\n",
              "      <td>4.840000</td>\n",
              "      <td>45.000000</td>\n",
              "      <td>66.000000</td>\n",
              "      <td>172.500000</td>\n",
              "      <td>136.000000</td>\n",
              "      <td>82.000000</td>\n",
              "      <td>37.000000</td>\n",
              "      <td>42.000000</td>\n",
              "    </tr>\n",
              "    <tr>\n",
              "      <th>75%</th>\n",
              "      <td>20336.000000</td>\n",
              "      <td>230.000000</td>\n",
              "      <td>106.000000</td>\n",
              "      <td>59.000000</td>\n",
              "      <td>5.400000</td>\n",
              "      <td>5.600000</td>\n",
              "      <td>60.000000</td>\n",
              "      <td>69.000000</td>\n",
              "      <td>200.000000</td>\n",
              "      <td>146.750000</td>\n",
              "      <td>90.000000</td>\n",
              "      <td>41.000000</td>\n",
              "      <td>46.000000</td>\n",
              "    </tr>\n",
              "    <tr>\n",
              "      <th>max</th>\n",
              "      <td>41756.000000</td>\n",
              "      <td>443.000000</td>\n",
              "      <td>385.000000</td>\n",
              "      <td>120.000000</td>\n",
              "      <td>19.299999</td>\n",
              "      <td>16.110001</td>\n",
              "      <td>92.000000</td>\n",
              "      <td>76.000000</td>\n",
              "      <td>325.000000</td>\n",
              "      <td>250.000000</td>\n",
              "      <td>124.000000</td>\n",
              "      <td>56.000000</td>\n",
              "      <td>64.000000</td>\n",
              "    </tr>\n",
              "  </tbody>\n",
              "</table>\n",
              "</div>"
            ],
            "text/plain": [
              "                 id        chol    stab.glu         hdl       ratio  \\\n",
              "count    403.000000  402.000000  403.000000  402.000000  402.000000   \n",
              "mean   15978.310174  207.845771  106.672457   50.445274    4.521642   \n",
              "std    11881.122124   44.445557   53.076655   17.262626    1.727886   \n",
              "min     1000.000000   78.000000   48.000000   12.000000    1.500000   \n",
              "25%     4792.500000  179.000000   81.000000   38.000000    3.200000   \n",
              "50%    15766.000000  204.000000   89.000000   46.000000    4.200000   \n",
              "75%    20336.000000  230.000000  106.000000   59.000000    5.400000   \n",
              "max    41756.000000  443.000000  385.000000  120.000000   19.299999   \n",
              "\n",
              "            glyhb         age      height      weight       bp.1s       bp.1d  \\\n",
              "count  390.000000  403.000000  398.000000  402.000000  398.000000  398.000000   \n",
              "mean     5.589769   46.851117   66.020101  177.592040  136.904523   83.321608   \n",
              "std      2.242595   16.312333    3.918515   40.340666   22.741033   13.589227   \n",
              "min      2.680000   19.000000   52.000000   99.000000   90.000000   48.000000   \n",
              "25%      4.380000   34.000000   63.000000  151.000000  121.250000   75.000000   \n",
              "50%      4.840000   45.000000   66.000000  172.500000  136.000000   82.000000   \n",
              "75%      5.600000   60.000000   69.000000  200.000000  146.750000   90.000000   \n",
              "max     16.110001   92.000000   76.000000  325.000000  250.000000  124.000000   \n",
              "\n",
              "            waist         hip  \n",
              "count  401.000000  401.000000  \n",
              "mean    37.900249   43.039900  \n",
              "std      5.729313    5.656713  \n",
              "min     26.000000   30.000000  \n",
              "25%     33.000000   39.000000  \n",
              "50%     37.000000   42.000000  \n",
              "75%     41.000000   46.000000  \n",
              "max     56.000000   64.000000  "
            ]
          },
          "execution_count": 167,
          "metadata": {},
          "output_type": "execute_result"
        }
      ],
      "source": [
        "#Generate the summary of descriptive statistics on the dataset\n",
        "diabetes.describe()"
      ]
    },
    {
      "cell_type": "markdown",
      "metadata": {},
      "source": [
        "**Checking whether each column has an appropriate datatype**"
      ]
    },
    {
      "cell_type": "code",
      "execution_count": 168,
      "metadata": {},
      "outputs": [
        {
          "data": {
            "text/plain": [
              "id            int64\n",
              "chol        float64\n",
              "stab.glu      int64\n",
              "hdl         float64\n",
              "ratio       float64\n",
              "glyhb       float64\n",
              "age           int64\n",
              "gender       object\n",
              "height      float64\n",
              "weight      float64\n",
              "frame        object\n",
              "bp.1s       float64\n",
              "bp.1d       float64\n",
              "waist       float64\n",
              "hip         float64\n",
              "dtype: object"
            ]
          },
          "execution_count": 168,
          "metadata": {},
          "output_type": "execute_result"
        }
      ],
      "source": [
        "diabetes.dtypes"
      ]
    },
    {
      "cell_type": "markdown",
      "metadata": {},
      "source": [
        "**Determining the no. of records in our dataset**"
      ]
    },
    {
      "cell_type": "code",
      "execution_count": 169,
      "metadata": {
        "colab": {
          "base_uri": "https://localhost:8080/"
        },
        "id": "6GT71CxFOeUr",
        "outputId": "c3a5368d-08b1-47d3-dd49-efd52b4393bf"
      },
      "outputs": [
        {
          "data": {
            "text/plain": [
              "(403, 15)"
            ]
          },
          "execution_count": 169,
          "metadata": {},
          "output_type": "execute_result"
        }
      ],
      "source": [
        "#Obtain the shape of the dataset\n",
        "diabetes.shape"
      ]
    },
    {
      "cell_type": "code",
      "execution_count": 170,
      "metadata": {
        "colab": {
          "base_uri": "https://localhost:8080/"
        },
        "id": "Pz64WmQaMMoE",
        "outputId": "8af47fb3-bb43-4d13-a811-0eccc3bf459a"
      },
      "outputs": [
        {
          "name": "stdout",
          "output_type": "stream",
          "text": [
            "<class 'pandas.core.frame.DataFrame'>\n",
            "RangeIndex: 403 entries, 0 to 402\n",
            "Data columns (total 15 columns):\n",
            " #   Column    Non-Null Count  Dtype  \n",
            "---  ------    --------------  -----  \n",
            " 0   id        403 non-null    int64  \n",
            " 1   chol      402 non-null    float64\n",
            " 2   stab.glu  403 non-null    int64  \n",
            " 3   hdl       402 non-null    float64\n",
            " 4   ratio     402 non-null    float64\n",
            " 5   glyhb     390 non-null    float64\n",
            " 6   age       403 non-null    int64  \n",
            " 7   gender    403 non-null    object \n",
            " 8   height    398 non-null    float64\n",
            " 9   weight    402 non-null    float64\n",
            " 10  frame     391 non-null    object \n",
            " 11  bp.1s     398 non-null    float64\n",
            " 12  bp.1d     398 non-null    float64\n",
            " 13  waist     401 non-null    float64\n",
            " 14  hip       401 non-null    float64\n",
            "dtypes: float64(10), int64(3), object(2)\n",
            "memory usage: 47.4+ KB\n"
          ]
        }
      ],
      "source": [
        "#get information about the dataframe\n",
        "diabetes.info()"
      ]
    },
    {
      "cell_type": "markdown",
      "metadata": {},
      "source": [
        "**Correlation of the variables**"
      ]
    },
    {
      "cell_type": "code",
      "execution_count": 171,
      "metadata": {},
      "outputs": [
        {
          "data": {
            "text/html": [
              "<div>\n",
              "<style scoped>\n",
              "    .dataframe tbody tr th:only-of-type {\n",
              "        vertical-align: middle;\n",
              "    }\n",
              "\n",
              "    .dataframe tbody tr th {\n",
              "        vertical-align: top;\n",
              "    }\n",
              "\n",
              "    .dataframe thead th {\n",
              "        text-align: right;\n",
              "    }\n",
              "</style>\n",
              "<table border=\"1\" class=\"dataframe\">\n",
              "  <thead>\n",
              "    <tr style=\"text-align: right;\">\n",
              "      <th></th>\n",
              "      <th>id</th>\n",
              "      <th>chol</th>\n",
              "      <th>stab.glu</th>\n",
              "      <th>hdl</th>\n",
              "      <th>ratio</th>\n",
              "      <th>glyhb</th>\n",
              "      <th>age</th>\n",
              "      <th>height</th>\n",
              "      <th>weight</th>\n",
              "      <th>bp.1s</th>\n",
              "      <th>bp.1d</th>\n",
              "      <th>waist</th>\n",
              "      <th>hip</th>\n",
              "    </tr>\n",
              "  </thead>\n",
              "  <tbody>\n",
              "    <tr>\n",
              "      <th>id</th>\n",
              "      <td>1.000000</td>\n",
              "      <td>0.059243</td>\n",
              "      <td>0.009315</td>\n",
              "      <td>0.059255</td>\n",
              "      <td>-0.034094</td>\n",
              "      <td>0.010378</td>\n",
              "      <td>-0.011083</td>\n",
              "      <td>-0.036948</td>\n",
              "      <td>-0.018658</td>\n",
              "      <td>0.013715</td>\n",
              "      <td>0.084001</td>\n",
              "      <td>-0.008123</td>\n",
              "      <td>0.048658</td>\n",
              "    </tr>\n",
              "    <tr>\n",
              "      <th>chol</th>\n",
              "      <td>0.059243</td>\n",
              "      <td>1.000000</td>\n",
              "      <td>0.150092</td>\n",
              "      <td>0.186581</td>\n",
              "      <td>0.475521</td>\n",
              "      <td>0.247099</td>\n",
              "      <td>0.233119</td>\n",
              "      <td>-0.058858</td>\n",
              "      <td>0.066889</td>\n",
              "      <td>0.203344</td>\n",
              "      <td>0.171605</td>\n",
              "      <td>0.124489</td>\n",
              "      <td>0.079402</td>\n",
              "    </tr>\n",
              "    <tr>\n",
              "      <th>stab.glu</th>\n",
              "      <td>0.009315</td>\n",
              "      <td>0.150092</td>\n",
              "      <td>1.000000</td>\n",
              "      <td>-0.161899</td>\n",
              "      <td>0.280349</td>\n",
              "      <td>0.749236</td>\n",
              "      <td>0.289258</td>\n",
              "      <td>0.090669</td>\n",
              "      <td>0.185453</td>\n",
              "      <td>0.166467</td>\n",
              "      <td>0.022014</td>\n",
              "      <td>0.218446</td>\n",
              "      <td>0.133502</td>\n",
              "    </tr>\n",
              "    <tr>\n",
              "      <th>hdl</th>\n",
              "      <td>0.059255</td>\n",
              "      <td>0.186581</td>\n",
              "      <td>-0.161899</td>\n",
              "      <td>1.000000</td>\n",
              "      <td>-0.686907</td>\n",
              "      <td>-0.149145</td>\n",
              "      <td>0.038088</td>\n",
              "      <td>-0.101419</td>\n",
              "      <td>-0.290983</td>\n",
              "      <td>0.019804</td>\n",
              "      <td>0.065732</td>\n",
              "      <td>-0.268369</td>\n",
              "      <td>-0.210060</td>\n",
              "    </tr>\n",
              "    <tr>\n",
              "      <th>ratio</th>\n",
              "      <td>-0.034094</td>\n",
              "      <td>0.475521</td>\n",
              "      <td>0.280349</td>\n",
              "      <td>-0.686907</td>\n",
              "      <td>1.000000</td>\n",
              "      <td>0.328665</td>\n",
              "      <td>0.148510</td>\n",
              "      <td>0.094335</td>\n",
              "      <td>0.281649</td>\n",
              "      <td>0.119386</td>\n",
              "      <td>0.048193</td>\n",
              "      <td>0.304162</td>\n",
              "      <td>0.194622</td>\n",
              "    </tr>\n",
              "    <tr>\n",
              "      <th>glyhb</th>\n",
              "      <td>0.010378</td>\n",
              "      <td>0.247099</td>\n",
              "      <td>0.749236</td>\n",
              "      <td>-0.149145</td>\n",
              "      <td>0.328665</td>\n",
              "      <td>1.000000</td>\n",
              "      <td>0.338929</td>\n",
              "      <td>0.063023</td>\n",
              "      <td>0.171882</td>\n",
              "      <td>0.197936</td>\n",
              "      <td>0.032375</td>\n",
              "      <td>0.226184</td>\n",
              "      <td>0.141401</td>\n",
              "    </tr>\n",
              "    <tr>\n",
              "      <th>age</th>\n",
              "      <td>-0.011083</td>\n",
              "      <td>0.233119</td>\n",
              "      <td>0.289258</td>\n",
              "      <td>0.038088</td>\n",
              "      <td>0.148510</td>\n",
              "      <td>0.338929</td>\n",
              "      <td>1.000000</td>\n",
              "      <td>-0.090493</td>\n",
              "      <td>-0.055970</td>\n",
              "      <td>0.443041</td>\n",
              "      <td>0.058227</td>\n",
              "      <td>0.149645</td>\n",
              "      <td>0.008819</td>\n",
              "    </tr>\n",
              "    <tr>\n",
              "      <th>height</th>\n",
              "      <td>-0.036948</td>\n",
              "      <td>-0.058858</td>\n",
              "      <td>0.090669</td>\n",
              "      <td>-0.101419</td>\n",
              "      <td>0.094335</td>\n",
              "      <td>0.063023</td>\n",
              "      <td>-0.090493</td>\n",
              "      <td>1.000000</td>\n",
              "      <td>0.251251</td>\n",
              "      <td>-0.047827</td>\n",
              "      <td>0.038598</td>\n",
              "      <td>0.051094</td>\n",
              "      <td>-0.107832</td>\n",
              "    </tr>\n",
              "    <tr>\n",
              "      <th>weight</th>\n",
              "      <td>-0.018658</td>\n",
              "      <td>0.066889</td>\n",
              "      <td>0.185453</td>\n",
              "      <td>-0.290983</td>\n",
              "      <td>0.281649</td>\n",
              "      <td>0.171882</td>\n",
              "      <td>-0.055970</td>\n",
              "      <td>0.251251</td>\n",
              "      <td>1.000000</td>\n",
              "      <td>0.090873</td>\n",
              "      <td>0.175956</td>\n",
              "      <td>0.849855</td>\n",
              "      <td>0.829115</td>\n",
              "    </tr>\n",
              "    <tr>\n",
              "      <th>bp.1s</th>\n",
              "      <td>0.013715</td>\n",
              "      <td>0.203344</td>\n",
              "      <td>0.166467</td>\n",
              "      <td>0.019804</td>\n",
              "      <td>0.119386</td>\n",
              "      <td>0.197936</td>\n",
              "      <td>0.443041</td>\n",
              "      <td>-0.047827</td>\n",
              "      <td>0.090873</td>\n",
              "      <td>1.000000</td>\n",
              "      <td>0.596557</td>\n",
              "      <td>0.196489</td>\n",
              "      <td>0.136655</td>\n",
              "    </tr>\n",
              "    <tr>\n",
              "      <th>bp.1d</th>\n",
              "      <td>0.084001</td>\n",
              "      <td>0.171605</td>\n",
              "      <td>0.022014</td>\n",
              "      <td>0.065732</td>\n",
              "      <td>0.048193</td>\n",
              "      <td>0.032375</td>\n",
              "      <td>0.058227</td>\n",
              "      <td>0.038598</td>\n",
              "      <td>0.175956</td>\n",
              "      <td>0.596557</td>\n",
              "      <td>1.000000</td>\n",
              "      <td>0.167110</td>\n",
              "      <td>0.145805</td>\n",
              "    </tr>\n",
              "    <tr>\n",
              "      <th>waist</th>\n",
              "      <td>-0.008123</td>\n",
              "      <td>0.124489</td>\n",
              "      <td>0.218446</td>\n",
              "      <td>-0.268369</td>\n",
              "      <td>0.304162</td>\n",
              "      <td>0.226184</td>\n",
              "      <td>0.149645</td>\n",
              "      <td>0.051094</td>\n",
              "      <td>0.849855</td>\n",
              "      <td>0.196489</td>\n",
              "      <td>0.167110</td>\n",
              "      <td>1.000000</td>\n",
              "      <td>0.837080</td>\n",
              "    </tr>\n",
              "    <tr>\n",
              "      <th>hip</th>\n",
              "      <td>0.048658</td>\n",
              "      <td>0.079402</td>\n",
              "      <td>0.133502</td>\n",
              "      <td>-0.210060</td>\n",
              "      <td>0.194622</td>\n",
              "      <td>0.141401</td>\n",
              "      <td>0.008819</td>\n",
              "      <td>-0.107832</td>\n",
              "      <td>0.829115</td>\n",
              "      <td>0.136655</td>\n",
              "      <td>0.145805</td>\n",
              "      <td>0.837080</td>\n",
              "      <td>1.000000</td>\n",
              "    </tr>\n",
              "  </tbody>\n",
              "</table>\n",
              "</div>"
            ],
            "text/plain": [
              "                id      chol  stab.glu       hdl     ratio     glyhb  \\\n",
              "id        1.000000  0.059243  0.009315  0.059255 -0.034094  0.010378   \n",
              "chol      0.059243  1.000000  0.150092  0.186581  0.475521  0.247099   \n",
              "stab.glu  0.009315  0.150092  1.000000 -0.161899  0.280349  0.749236   \n",
              "hdl       0.059255  0.186581 -0.161899  1.000000 -0.686907 -0.149145   \n",
              "ratio    -0.034094  0.475521  0.280349 -0.686907  1.000000  0.328665   \n",
              "glyhb     0.010378  0.247099  0.749236 -0.149145  0.328665  1.000000   \n",
              "age      -0.011083  0.233119  0.289258  0.038088  0.148510  0.338929   \n",
              "height   -0.036948 -0.058858  0.090669 -0.101419  0.094335  0.063023   \n",
              "weight   -0.018658  0.066889  0.185453 -0.290983  0.281649  0.171882   \n",
              "bp.1s     0.013715  0.203344  0.166467  0.019804  0.119386  0.197936   \n",
              "bp.1d     0.084001  0.171605  0.022014  0.065732  0.048193  0.032375   \n",
              "waist    -0.008123  0.124489  0.218446 -0.268369  0.304162  0.226184   \n",
              "hip       0.048658  0.079402  0.133502 -0.210060  0.194622  0.141401   \n",
              "\n",
              "               age    height    weight     bp.1s     bp.1d     waist       hip  \n",
              "id       -0.011083 -0.036948 -0.018658  0.013715  0.084001 -0.008123  0.048658  \n",
              "chol      0.233119 -0.058858  0.066889  0.203344  0.171605  0.124489  0.079402  \n",
              "stab.glu  0.289258  0.090669  0.185453  0.166467  0.022014  0.218446  0.133502  \n",
              "hdl       0.038088 -0.101419 -0.290983  0.019804  0.065732 -0.268369 -0.210060  \n",
              "ratio     0.148510  0.094335  0.281649  0.119386  0.048193  0.304162  0.194622  \n",
              "glyhb     0.338929  0.063023  0.171882  0.197936  0.032375  0.226184  0.141401  \n",
              "age       1.000000 -0.090493 -0.055970  0.443041  0.058227  0.149645  0.008819  \n",
              "height   -0.090493  1.000000  0.251251 -0.047827  0.038598  0.051094 -0.107832  \n",
              "weight   -0.055970  0.251251  1.000000  0.090873  0.175956  0.849855  0.829115  \n",
              "bp.1s     0.443041 -0.047827  0.090873  1.000000  0.596557  0.196489  0.136655  \n",
              "bp.1d     0.058227  0.038598  0.175956  0.596557  1.000000  0.167110  0.145805  \n",
              "waist     0.149645  0.051094  0.849855  0.196489  0.167110  1.000000  0.837080  \n",
              "hip       0.008819 -0.107832  0.829115  0.136655  0.145805  0.837080  1.000000  "
            ]
          },
          "execution_count": 171,
          "metadata": {},
          "output_type": "execute_result"
        }
      ],
      "source": [
        "#Are the independent variables correlated? We get the Pearson's correlation to find out. A heatmap can also give better visualization.\n",
        "corr = diabetes.corr()\n",
        "corr "
      ]
    },
    {
      "cell_type": "code",
      "execution_count": 172,
      "metadata": {},
      "outputs": [
        {
          "data": {
            "image/png": "[encoded data removed]",
            "text/plain": [
              "<Figure size 792x648 with 2 Axes>"
            ]
          },
          "metadata": {},
          "output_type": "display_data"
        }
      ],
      "source": [
        "sns.set(style=\"white\")\n",
        "# Create a covariance matrix\n",
        "corr = diabetes.corr()\n",
        "\n",
        "# Creating a mask the size of our covariance matrix\n",
        "mask = np.zeros_like(corr, dtype=bool)\n",
        "mask[np.triu_indices_from(mask)] = True\n",
        "\n",
        "# Set up the matplotlib figure\n",
        "f, ax = plt.subplots(figsize=(11,9))\n",
        "\n",
        "# Generate a custom diverging colormap\n",
        "cmap = sns.diverging_palette(220,10,as_cmap=True)\n",
        "\n",
        "# Draw the heatmap with the mask and correct aspect ratio\n",
        "sns.heatmap(corr,mask=mask,cmap=cmap,vmax=1,center=0,square=True, \n",
        "            linewidth=.5, cbar_kws={'shrink': .5},\n",
        "            annot=True,\n",
        "            annot_kws={'fontsize':11, 'fontweight':'bold'})\n",
        "\n",
        "            \n",
        "ax.set_title('Multi-Collinearity of Features')\n",
        "plt.savefig('correlation2.png')\n"
      ]
    },
    {
      "cell_type": "markdown",
      "metadata": {},
      "source": [
        "**Checking for outliers**"
      ]
    },
    {
      "cell_type": "code",
      "execution_count": 211,
      "metadata": {},
      "outputs": [
        {
          "data": {
            "image/png": "[encoded data removed]",
            "text/plain": [
              "<Figure size 1920x1920 with 1 Axes>"
            ]
          },
          "metadata": {},
          "output_type": "display_data"
        }
      ],
      "source": [
        "fig = plt.figure(figsize=(24, 24), dpi=80, facecolor=\"w\", edgecolor=\"k\")\n",
        "boxplot = diabetes.boxplot(column=[\"chol\", \"stab.glu\", \"hdl\",\"ratio\",\"glyhb\",\"age\",\"height\",\"weight\",\"bp.1s\",\"bp.1d\",\"waist\",\"hip\"])"
      ]
    },
    {
      "cell_type": "markdown",
      "metadata": {},
      "source": [
        "# 4) Tidying the Dataset\n"
      ]
    },
    {
      "cell_type": "markdown",
      "metadata": {},
      "source": [
        "**Checking for missing values**"
      ]
    },
    {
      "cell_type": "code",
      "execution_count": 174,
      "metadata": {
        "colab": {
          "base_uri": "https://localhost:8080/"
        },
        "id": "iwCHQPGrMUXU",
        "outputId": "43ce8f63-5003-445a-98f8-49b8f8281f21"
      },
      "outputs": [
        {
          "data": {
            "text/plain": [
              "id           0\n",
              "chol         1\n",
              "stab.glu     0\n",
              "hdl          1\n",
              "ratio        1\n",
              "glyhb       13\n",
              "age          0\n",
              "gender       0\n",
              "height       5\n",
              "weight       1\n",
              "frame       12\n",
              "bp.1s        5\n",
              "bp.1d        5\n",
              "waist        2\n",
              "hip          2\n",
              "dtype: int64"
            ]
          },
          "execution_count": 174,
          "metadata": {},
          "output_type": "execute_result"
        }
      ],
      "source": [
        "#check for null values\n",
        "diabetes.isnull().sum()"
      ]
    },
    {
      "cell_type": "markdown",
      "metadata": {},
      "source": [
        "**Checking for duplicated values**"
      ]
    },
    {
      "cell_type": "code",
      "execution_count": 175,
      "metadata": {
        "colab": {
          "base_uri": "https://localhost:8080/"
        },
        "id": "aWtIJUWqNXpO",
        "outputId": "93f0b452-40df-4fee-d2e9-578be38dfab6"
      },
      "outputs": [
        {
          "data": {
            "text/plain": [
              "0"
            ]
          },
          "execution_count": 175,
          "metadata": {},
          "output_type": "execute_result"
        }
      ],
      "source": [
        "#check for duplicated values\n",
        "diabetes.duplicated().sum()"
      ]
    },
    {
      "cell_type": "markdown",
      "metadata": {},
      "source": [
        "### Dealing with missing values"
      ]
    },
    {
      "cell_type": "code",
      "execution_count": 176,
      "metadata": {},
      "outputs": [],
      "source": [
        "diabetes = diabetes.fillna(diabetes.mean())"
      ]
    },
    {
      "cell_type": "code",
      "execution_count": 177,
      "metadata": {},
      "outputs": [],
      "source": [
        "diabetes['frame'] = diabetes['frame'].fillna(diabetes['frame'].mode()[0])"
      ]
    },
    {
      "cell_type": "code",
      "execution_count": 178,
      "metadata": {},
      "outputs": [
        {
          "data": {
            "text/plain": [
              "id          0\n",
              "chol        0\n",
              "stab.glu    0\n",
              "hdl         0\n",
              "ratio       0\n",
              "glyhb       0\n",
              "age         0\n",
              "gender      0\n",
              "height      0\n",
              "weight      0\n",
              "frame       0\n",
              "bp.1s       0\n",
              "bp.1d       0\n",
              "waist       0\n",
              "hip         0\n",
              "dtype: int64"
            ]
          },
          "execution_count": 178,
          "metadata": {},
          "output_type": "execute_result"
        }
      ],
      "source": [
        "diabetes.isnull().sum()"
      ]
    },
    {
      "cell_type": "markdown",
      "metadata": {
        "id": "rG0B-qllN_Oo"
      },
      "source": [
        "# 5) Data Visualization"
      ]
    },
    {
      "cell_type": "markdown",
      "metadata": {},
      "source": [
        "**One detailed visualization to see distribution of different features when one has diabetes. I.e has a glyhb of 6.5 and above**"
      ]
    },
    {
      "cell_type": "code",
      "execution_count": 179,
      "metadata": {},
      "outputs": [
        {
          "data": {
            "text/plain": [
              "array([[<AxesSubplot:title={'center':'id'}>,\n",
              "        <AxesSubplot:title={'center':'chol'}>,\n",
              "        <AxesSubplot:title={'center':'stab.glu'}>,\n",
              "        <AxesSubplot:title={'center':'hdl'}>],\n",
              "       [<AxesSubplot:title={'center':'ratio'}>,\n",
              "        <AxesSubplot:title={'center':'glyhb'}>,\n",
              "        <AxesSubplot:title={'center':'age'}>,\n",
              "        <AxesSubplot:title={'center':'height'}>],\n",
              "       [<AxesSubplot:title={'center':'weight'}>,\n",
              "        <AxesSubplot:title={'center':'bp.1s'}>,\n",
              "        <AxesSubplot:title={'center':'bp.1d'}>,\n",
              "        <AxesSubplot:title={'center':'waist'}>],\n",
              "       [<AxesSubplot:title={'center':'hip'}>, <AxesSubplot:>,\n",
              "        <AxesSubplot:>, <AxesSubplot:>]], dtype=object)"
            ]
          },
          "execution_count": 179,
          "metadata": {},
          "output_type": "execute_result"
        },
        {
          "data": {
            "image/png": "[encoded data removed]",
            "text/plain": [
              "<Figure size 1584x1584 with 16 Axes>"
            ]
          },
          "metadata": {},
          "output_type": "display_data"
        }
      ],
      "source": [
        "diabetes[diabetes['glyhb']>= 6.5].hist(figsize=(22, 22))\n",
        "\n"
      ]
    },
    {
      "cell_type": "markdown",
      "metadata": {},
      "source": [
        "# 6) Feature Engineering"
      ]
    },
    {
      "cell_type": "markdown",
      "metadata": {},
      "source": [
        "**Create a new column to indicate presence and absence of diabetes**"
      ]
    },
    {
      "cell_type": "code",
      "execution_count": 180,
      "metadata": {},
      "outputs": [
        {
          "data": {
            "text/html": [
              "<div>\n",
              "<style scoped>\n",
              "    .dataframe tbody tr th:only-of-type {\n",
              "        vertical-align: middle;\n",
              "    }\n",
              "\n",
              "    .dataframe tbody tr th {\n",
              "        vertical-align: top;\n",
              "    }\n",
              "\n",
              "    .dataframe thead th {\n",
              "        text-align: right;\n",
              "    }\n",
              "</style>\n",
              "<table border=\"1\" class=\"dataframe\">\n",
              "  <thead>\n",
              "    <tr style=\"text-align: right;\">\n",
              "      <th></th>\n",
              "      <th>id</th>\n",
              "      <th>chol</th>\n",
              "      <th>stab.glu</th>\n",
              "      <th>hdl</th>\n",
              "      <th>ratio</th>\n",
              "      <th>glyhb</th>\n",
              "      <th>age</th>\n",
              "      <th>gender</th>\n",
              "      <th>height</th>\n",
              "      <th>weight</th>\n",
              "      <th>frame</th>\n",
              "      <th>bp.1s</th>\n",
              "      <th>bp.1d</th>\n",
              "      <th>waist</th>\n",
              "      <th>hip</th>\n",
              "      <th>Diabetic</th>\n",
              "    </tr>\n",
              "  </thead>\n",
              "  <tbody>\n",
              "    <tr>\n",
              "      <th>0</th>\n",
              "      <td>1000</td>\n",
              "      <td>203.0</td>\n",
              "      <td>82</td>\n",
              "      <td>56.0</td>\n",
              "      <td>3.6</td>\n",
              "      <td>4.31</td>\n",
              "      <td>46</td>\n",
              "      <td>female</td>\n",
              "      <td>62.0</td>\n",
              "      <td>121.0</td>\n",
              "      <td>medium</td>\n",
              "      <td>118.0</td>\n",
              "      <td>59.0</td>\n",
              "      <td>29.0</td>\n",
              "      <td>38.0</td>\n",
              "      <td>0</td>\n",
              "    </tr>\n",
              "    <tr>\n",
              "      <th>1</th>\n",
              "      <td>1001</td>\n",
              "      <td>165.0</td>\n",
              "      <td>97</td>\n",
              "      <td>24.0</td>\n",
              "      <td>6.9</td>\n",
              "      <td>4.44</td>\n",
              "      <td>29</td>\n",
              "      <td>female</td>\n",
              "      <td>64.0</td>\n",
              "      <td>218.0</td>\n",
              "      <td>large</td>\n",
              "      <td>112.0</td>\n",
              "      <td>68.0</td>\n",
              "      <td>46.0</td>\n",
              "      <td>48.0</td>\n",
              "      <td>0</td>\n",
              "    </tr>\n",
              "    <tr>\n",
              "      <th>2</th>\n",
              "      <td>1002</td>\n",
              "      <td>228.0</td>\n",
              "      <td>92</td>\n",
              "      <td>37.0</td>\n",
              "      <td>6.2</td>\n",
              "      <td>4.64</td>\n",
              "      <td>58</td>\n",
              "      <td>female</td>\n",
              "      <td>61.0</td>\n",
              "      <td>256.0</td>\n",
              "      <td>large</td>\n",
              "      <td>190.0</td>\n",
              "      <td>92.0</td>\n",
              "      <td>49.0</td>\n",
              "      <td>57.0</td>\n",
              "      <td>0</td>\n",
              "    </tr>\n",
              "    <tr>\n",
              "      <th>3</th>\n",
              "      <td>1003</td>\n",
              "      <td>78.0</td>\n",
              "      <td>93</td>\n",
              "      <td>12.0</td>\n",
              "      <td>6.5</td>\n",
              "      <td>4.63</td>\n",
              "      <td>67</td>\n",
              "      <td>male</td>\n",
              "      <td>67.0</td>\n",
              "      <td>119.0</td>\n",
              "      <td>large</td>\n",
              "      <td>110.0</td>\n",
              "      <td>50.0</td>\n",
              "      <td>33.0</td>\n",
              "      <td>38.0</td>\n",
              "      <td>0</td>\n",
              "    </tr>\n",
              "    <tr>\n",
              "      <th>4</th>\n",
              "      <td>1005</td>\n",
              "      <td>249.0</td>\n",
              "      <td>90</td>\n",
              "      <td>28.0</td>\n",
              "      <td>8.9</td>\n",
              "      <td>7.72</td>\n",
              "      <td>64</td>\n",
              "      <td>male</td>\n",
              "      <td>68.0</td>\n",
              "      <td>183.0</td>\n",
              "      <td>medium</td>\n",
              "      <td>138.0</td>\n",
              "      <td>80.0</td>\n",
              "      <td>44.0</td>\n",
              "      <td>41.0</td>\n",
              "      <td>1</td>\n",
              "    </tr>\n",
              "  </tbody>\n",
              "</table>\n",
              "</div>"
            ],
            "text/plain": [
              "     id   chol  stab.glu   hdl  ratio  glyhb  age  gender  height  weight  \\\n",
              "0  1000  203.0        82  56.0    3.6   4.31   46  female    62.0   121.0   \n",
              "1  1001  165.0        97  24.0    6.9   4.44   29  female    64.0   218.0   \n",
              "2  1002  228.0        92  37.0    6.2   4.64   58  female    61.0   256.0   \n",
              "3  1003   78.0        93  12.0    6.5   4.63   67    male    67.0   119.0   \n",
              "4  1005  249.0        90  28.0    8.9   7.72   64    male    68.0   183.0   \n",
              "\n",
              "    frame  bp.1s  bp.1d  waist   hip  Diabetic  \n",
              "0  medium  118.0   59.0   29.0  38.0         0  \n",
              "1   large  112.0   68.0   46.0  48.0         0  \n",
              "2   large  190.0   92.0   49.0  57.0         0  \n",
              "3   large  110.0   50.0   33.0  38.0         0  \n",
              "4  medium  138.0   80.0   44.0  41.0         1  "
            ]
          },
          "execution_count": 180,
          "metadata": {},
          "output_type": "execute_result"
        }
      ],
      "source": [
        "#Create a new column to indicate presence and absence of diabetes\n",
        "diabetes['Diabetic'] = diabetes['glyhb']>= 6.5\n",
        "diabetes['Diabetic'].replace({False:0, True:1}, inplace=True)\n",
        "diabetes.head()"
      ]
    },
    {
      "cell_type": "markdown",
      "metadata": {},
      "source": [
        "### One hot encoding"
      ]
    },
    {
      "cell_type": "markdown",
      "metadata": {},
      "source": [
        "**According to the attribute information above, some of the variables are categorical.We haowever require them to be numerical for our model. We can convert them into their correct categories as follows...**"
      ]
    },
    {
      "cell_type": "code",
      "execution_count": 181,
      "metadata": {},
      "outputs": [
        {
          "data": {
            "text/plain": [
              "array(['female', 'male'], dtype=object)"
            ]
          },
          "execution_count": 181,
          "metadata": {},
          "output_type": "execute_result"
        }
      ],
      "source": [
        "#check for unique values in frame \n",
        "diabetes['gender'].unique()"
      ]
    },
    {
      "cell_type": "code",
      "execution_count": 182,
      "metadata": {},
      "outputs": [
        {
          "data": {
            "text/plain": [
              "array(['medium', 'large', 'small'], dtype=object)"
            ]
          },
          "execution_count": 182,
          "metadata": {},
          "output_type": "execute_result"
        }
      ],
      "source": [
        "#check for unique values in frame \n",
        "diabetes['frame'].unique()"
      ]
    },
    {
      "cell_type": "code",
      "execution_count": 183,
      "metadata": {},
      "outputs": [
        {
          "name": "stdout",
          "output_type": "stream",
          "text": [
            "        id   chol  stab.glu   hdl  ratio      glyhb  age  height  weight  \\\n",
            "0     1000  203.0        82  56.0    3.6   4.310000   46    62.0   121.0   \n",
            "1     1001  165.0        97  24.0    6.9   4.440000   29    64.0   218.0   \n",
            "2     1002  228.0        92  37.0    6.2   4.640000   58    61.0   256.0   \n",
            "3     1003   78.0        93  12.0    6.5   4.630000   67    67.0   119.0   \n",
            "4     1005  249.0        90  28.0    8.9   7.720000   64    68.0   183.0   \n",
            "..     ...    ...       ...   ...    ...        ...  ...     ...     ...   \n",
            "398  41506  296.0       369  46.0    6.4  16.110001   53    69.0   173.0   \n",
            "399  41507  284.0        89  54.0    5.3   4.390000   51    63.0   154.0   \n",
            "400  41510  194.0       269  38.0    5.1  13.630000   29    69.0   167.0   \n",
            "401  41752  199.0        76  52.0    3.8   4.490000   41    63.0   197.0   \n",
            "402  41756  159.0        88  79.0    2.0   5.589769   68    64.0   220.0   \n",
            "\n",
            "     bp.1s  bp.1d  waist   hip  Diabetic  gender_female  gender_male  \\\n",
            "0    118.0   59.0   29.0  38.0         0              1            0   \n",
            "1    112.0   68.0   46.0  48.0         0              1            0   \n",
            "2    190.0   92.0   49.0  57.0         0              1            0   \n",
            "3    110.0   50.0   33.0  38.0         0              0            1   \n",
            "4    138.0   80.0   44.0  41.0         1              0            1   \n",
            "..     ...    ...    ...   ...       ...            ...          ...   \n",
            "398  138.0   94.0   35.0  39.0         1              0            1   \n",
            "399  140.0  100.0   32.0  43.0         0              1            0   \n",
            "400  120.0   70.0   33.0  40.0         1              1            0   \n",
            "401  120.0   78.0   41.0  48.0         0              1            0   \n",
            "402  100.0   72.0   49.0  58.0         0              1            0   \n",
            "\n",
            "     frame_large  frame_medium  frame_small  \n",
            "0              0             1            0  \n",
            "1              1             0            0  \n",
            "2              1             0            0  \n",
            "3              1             0            0  \n",
            "4              0             1            0  \n",
            "..           ...           ...          ...  \n",
            "398            0             1            0  \n",
            "399            0             1            0  \n",
            "400            0             0            1  \n",
            "401            0             1            0  \n",
            "402            0             1            0  \n",
            "\n",
            "[403 rows x 19 columns]\n"
          ]
        }
      ],
      "source": [
        "#one-hot encode(binarise) the Gender column to have a separate column for each gender \n",
        "diabetes = pd.get_dummies(diabetes, columns=[\"gender\", 'frame'])\n",
        "print(diabetes)"
      ]
    },
    {
      "cell_type": "code",
      "execution_count": 184,
      "metadata": {},
      "outputs": [
        {
          "data": {
            "text/plain": [
              "id               0\n",
              "chol             0\n",
              "stab.glu         0\n",
              "hdl              0\n",
              "ratio            0\n",
              "glyhb            0\n",
              "age              0\n",
              "height           0\n",
              "weight           0\n",
              "bp.1s            0\n",
              "bp.1d            0\n",
              "waist            0\n",
              "hip              0\n",
              "Diabetic         0\n",
              "gender_female    0\n",
              "gender_male      0\n",
              "frame_large      0\n",
              "frame_medium     0\n",
              "frame_small      0\n",
              "dtype: int64"
            ]
          },
          "execution_count": 184,
          "metadata": {},
          "output_type": "execute_result"
        }
      ],
      "source": [
        "diabetes.isnull().sum()"
      ]
    },
    {
      "cell_type": "code",
      "execution_count": 185,
      "metadata": {},
      "outputs": [
        {
          "data": {
            "text/plain": [
              "Text(0.5, 1.0, 'Distribution of diabetic vs non-diabetic people')"
            ]
          },
          "execution_count": 185,
          "metadata": {},
          "output_type": "execute_result"
        },
        {
          "data": {
            "image/png": "[encoded data removed]",
            "text/plain": [
              "<Figure size 504x504 with 1 Axes>"
            ]
          },
          "metadata": {},
          "output_type": "display_data"
        }
      ],
      "source": [
        "fig = plt.figure(figsize=(7,7))\n",
        "colors = (\"red\", \"gold\")\n",
        "wp = {'linewidth':2, 'edgecolor':\"black\"}\n",
        "tags = diabetes['Diabetic'].value_counts()\n",
        "explode = (0.1, 0.1)\n",
        "tags.plot(kind='pie',autopct = '%1.1f%%', shadow=True, colors = colors, startangle =90, \n",
        "         wedgeprops = wp, explode = explode, label='')\n",
        "plt.title('Distribution of diabetic vs non-diabetic people')\n"
      ]
    },
    {
      "cell_type": "markdown",
      "metadata": {},
      "source": [
        "From the above visual, we can see that people considered to be diabetic are comparatively lesser than those not, so this is a situation of an unbalanced data.\n",
        "\n",
        "\n",
        "If we will fit this data to train our diabetes prediction model, then the model will not generalize any diabetic people because the data with context to the diabetic is significantly less than those without . So in this situation, we will need to prepare the data to fit properly in our model.\n",
        "\n",
        "First let's train the model with the data as it is before resampling, then after upsampling"
      ]
    },
    {
      "cell_type": "markdown",
      "metadata": {},
      "source": [
        "# 7) Feature selection"
      ]
    },
    {
      "cell_type": "markdown",
      "metadata": {},
      "source": [
        "### Checking for multi-collinearity"
      ]
    },
    {
      "cell_type": "markdown",
      "metadata": {},
      "source": [
        "**Multicollinearity happens when independent variables in the regression model are highly correlated to each other. It makes it hard to interpret for model and also creates an overfitting problem**"
      ]
    },
    {
      "cell_type": "code",
      "execution_count": 186,
      "metadata": {},
      "outputs": [
        {
          "data": {
            "text/html": [
              "<div>\n",
              "<style scoped>\n",
              "    .dataframe tbody tr th:only-of-type {\n",
              "        vertical-align: middle;\n",
              "    }\n",
              "\n",
              "    .dataframe tbody tr th {\n",
              "        vertical-align: top;\n",
              "    }\n",
              "\n",
              "    .dataframe thead th {\n",
              "        text-align: right;\n",
              "    }\n",
              "</style>\n",
              "<table border=\"1\" class=\"dataframe\">\n",
              "  <thead>\n",
              "    <tr style=\"text-align: right;\">\n",
              "      <th></th>\n",
              "      <th>id</th>\n",
              "      <th>chol</th>\n",
              "      <th>stab.glu</th>\n",
              "      <th>hdl</th>\n",
              "      <th>ratio</th>\n",
              "      <th>glyhb</th>\n",
              "      <th>age</th>\n",
              "      <th>height</th>\n",
              "      <th>weight</th>\n",
              "      <th>bp.1s</th>\n",
              "      <th>bp.1d</th>\n",
              "      <th>waist</th>\n",
              "      <th>hip</th>\n",
              "      <th>Diabetic</th>\n",
              "      <th>gender_female</th>\n",
              "      <th>gender_male</th>\n",
              "      <th>frame_large</th>\n",
              "      <th>frame_medium</th>\n",
              "      <th>frame_small</th>\n",
              "    </tr>\n",
              "  </thead>\n",
              "  <tbody>\n",
              "    <tr>\n",
              "      <th>id</th>\n",
              "      <td>1.000000</td>\n",
              "      <td>0.059130</td>\n",
              "      <td>0.009315</td>\n",
              "      <td>0.059142</td>\n",
              "      <td>-0.034029</td>\n",
              "      <td>0.010164</td>\n",
              "      <td>-0.011083</td>\n",
              "      <td>-0.036842</td>\n",
              "      <td>-0.018658</td>\n",
              "      <td>0.013613</td>\n",
              "      <td>0.083374</td>\n",
              "      <td>-0.008075</td>\n",
              "      <td>0.048370</td>\n",
              "      <td>0.008627</td>\n",
              "      <td>-0.018867</td>\n",
              "      <td>0.018867</td>\n",
              "      <td>-0.121499</td>\n",
              "      <td>-0.018121</td>\n",
              "      <td>0.141814</td>\n",
              "    </tr>\n",
              "    <tr>\n",
              "      <th>chol</th>\n",
              "      <td>0.059130</td>\n",
              "      <td>1.000000</td>\n",
              "      <td>0.150021</td>\n",
              "      <td>0.186581</td>\n",
              "      <td>0.475521</td>\n",
              "      <td>0.244407</td>\n",
              "      <td>0.233118</td>\n",
              "      <td>-0.058324</td>\n",
              "      <td>0.066239</td>\n",
              "      <td>0.202520</td>\n",
              "      <td>0.171015</td>\n",
              "      <td>0.123726</td>\n",
              "      <td>0.078967</td>\n",
              "      <td>0.207415</td>\n",
              "      <td>0.015663</td>\n",
              "      <td>-0.015663</td>\n",
              "      <td>0.002038</td>\n",
              "      <td>0.117604</td>\n",
              "      <td>-0.136365</td>\n",
              "    </tr>\n",
              "    <tr>\n",
              "      <th>stab.glu</th>\n",
              "      <td>0.009315</td>\n",
              "      <td>0.150021</td>\n",
              "      <td>1.000000</td>\n",
              "      <td>-0.161823</td>\n",
              "      <td>0.280216</td>\n",
              "      <td>0.747041</td>\n",
              "      <td>0.289258</td>\n",
              "      <td>0.090315</td>\n",
              "      <td>0.184010</td>\n",
              "      <td>0.166285</td>\n",
              "      <td>0.021990</td>\n",
              "      <td>0.218297</td>\n",
              "      <td>0.133411</td>\n",
              "      <td>0.685887</td>\n",
              "      <td>-0.089297</td>\n",
              "      <td>0.089297</td>\n",
              "      <td>0.160621</td>\n",
              "      <td>-0.035944</td>\n",
              "      <td>-0.119057</td>\n",
              "    </tr>\n",
              "    <tr>\n",
              "      <th>hdl</th>\n",
              "      <td>0.059142</td>\n",
              "      <td>0.186581</td>\n",
              "      <td>-0.161823</td>\n",
              "      <td>1.000000</td>\n",
              "      <td>-0.686907</td>\n",
              "      <td>-0.146987</td>\n",
              "      <td>0.038087</td>\n",
              "      <td>-0.100981</td>\n",
              "      <td>-0.289370</td>\n",
              "      <td>0.019732</td>\n",
              "      <td>0.065483</td>\n",
              "      <td>-0.266577</td>\n",
              "      <td>-0.208785</td>\n",
              "      <td>-0.126135</td>\n",
              "      <td>0.113834</td>\n",
              "      <td>-0.113834</td>\n",
              "      <td>-0.198835</td>\n",
              "      <td>0.022121</td>\n",
              "      <td>0.172939</td>\n",
              "    </tr>\n",
              "    <tr>\n",
              "      <th>ratio</th>\n",
              "      <td>-0.034029</td>\n",
              "      <td>0.475521</td>\n",
              "      <td>0.280216</td>\n",
              "      <td>-0.686907</td>\n",
              "      <td>1.000000</td>\n",
              "      <td>0.325137</td>\n",
              "      <td>0.148509</td>\n",
              "      <td>0.094176</td>\n",
              "      <td>0.280148</td>\n",
              "      <td>0.119153</td>\n",
              "      <td>0.048134</td>\n",
              "      <td>0.301908</td>\n",
              "      <td>0.193302</td>\n",
              "      <td>0.283366</td>\n",
              "      <td>-0.113095</td>\n",
              "      <td>0.113095</td>\n",
              "      <td>0.159980</td>\n",
              "      <td>0.060944</td>\n",
              "      <td>-0.229089</td>\n",
              "    </tr>\n",
              "    <tr>\n",
              "      <th>glyhb</th>\n",
              "      <td>0.010164</td>\n",
              "      <td>0.244407</td>\n",
              "      <td>0.747041</td>\n",
              "      <td>-0.146987</td>\n",
              "      <td>0.325137</td>\n",
              "      <td>1.000000</td>\n",
              "      <td>0.335930</td>\n",
              "      <td>0.061628</td>\n",
              "      <td>0.166749</td>\n",
              "      <td>0.196383</td>\n",
              "      <td>0.031711</td>\n",
              "      <td>0.223218</td>\n",
              "      <td>0.138550</td>\n",
              "      <td>0.855214</td>\n",
              "      <td>-0.049657</td>\n",
              "      <td>0.049657</td>\n",
              "      <td>0.131867</td>\n",
              "      <td>0.011072</td>\n",
              "      <td>-0.144098</td>\n",
              "    </tr>\n",
              "    <tr>\n",
              "      <th>age</th>\n",
              "      <td>-0.011083</td>\n",
              "      <td>0.233118</td>\n",
              "      <td>0.289258</td>\n",
              "      <td>0.038087</td>\n",
              "      <td>0.148509</td>\n",
              "      <td>0.335930</td>\n",
              "      <td>1.000000</td>\n",
              "      <td>-0.090358</td>\n",
              "      <td>-0.055937</td>\n",
              "      <td>0.442328</td>\n",
              "      <td>0.058133</td>\n",
              "      <td>0.149434</td>\n",
              "      <td>0.008807</td>\n",
              "      <td>0.311686</td>\n",
              "      <td>-0.073509</td>\n",
              "      <td>0.073509</td>\n",
              "      <td>0.215558</td>\n",
              "      <td>-0.041083</td>\n",
              "      <td>-0.167951</td>\n",
              "    </tr>\n",
              "    <tr>\n",
              "      <th>height</th>\n",
              "      <td>-0.036842</td>\n",
              "      <td>-0.058324</td>\n",
              "      <td>0.090315</td>\n",
              "      <td>-0.100981</td>\n",
              "      <td>0.094176</td>\n",
              "      <td>0.061628</td>\n",
              "      <td>-0.090358</td>\n",
              "      <td>1.000000</td>\n",
              "      <td>0.249728</td>\n",
              "      <td>-0.047200</td>\n",
              "      <td>0.037991</td>\n",
              "      <td>0.050888</td>\n",
              "      <td>-0.106813</td>\n",
              "      <td>0.013381</td>\n",
              "      <td>-0.676997</td>\n",
              "      <td>0.676997</td>\n",
              "      <td>0.092106</td>\n",
              "      <td>-0.089253</td>\n",
              "      <td>0.010133</td>\n",
              "    </tr>\n",
              "    <tr>\n",
              "      <th>weight</th>\n",
              "      <td>-0.018658</td>\n",
              "      <td>0.066239</td>\n",
              "      <td>0.184010</td>\n",
              "      <td>-0.289370</td>\n",
              "      <td>0.280148</td>\n",
              "      <td>0.166749</td>\n",
              "      <td>-0.055937</td>\n",
              "      <td>0.249728</td>\n",
              "      <td>1.000000</td>\n",
              "      <td>0.090466</td>\n",
              "      <td>0.174984</td>\n",
              "      <td>0.846362</td>\n",
              "      <td>0.826496</td>\n",
              "      <td>0.149066</td>\n",
              "      <td>-0.090791</td>\n",
              "      <td>0.090791</td>\n",
              "      <td>0.381702</td>\n",
              "      <td>0.008581</td>\n",
              "      <td>-0.390299</td>\n",
              "    </tr>\n",
              "    <tr>\n",
              "      <th>bp.1s</th>\n",
              "      <td>0.013613</td>\n",
              "      <td>0.202520</td>\n",
              "      <td>0.166285</td>\n",
              "      <td>0.019732</td>\n",
              "      <td>0.119153</td>\n",
              "      <td>0.196383</td>\n",
              "      <td>0.442328</td>\n",
              "      <td>-0.047200</td>\n",
              "      <td>0.090466</td>\n",
              "      <td>1.000000</td>\n",
              "      <td>0.596557</td>\n",
              "      <td>0.194850</td>\n",
              "      <td>0.135562</td>\n",
              "      <td>0.219457</td>\n",
              "      <td>-0.030733</td>\n",
              "      <td>0.030733</td>\n",
              "      <td>0.111107</td>\n",
              "      <td>0.058801</td>\n",
              "      <td>-0.177922</td>\n",
              "    </tr>\n",
              "    <tr>\n",
              "      <th>bp.1d</th>\n",
              "      <td>0.083374</td>\n",
              "      <td>0.171015</td>\n",
              "      <td>0.021990</td>\n",
              "      <td>0.065483</td>\n",
              "      <td>0.048134</td>\n",
              "      <td>0.031711</td>\n",
              "      <td>0.058133</td>\n",
              "      <td>0.037991</td>\n",
              "      <td>0.174984</td>\n",
              "      <td>0.596557</td>\n",
              "      <td>1.000000</td>\n",
              "      <td>0.164976</td>\n",
              "      <td>0.143979</td>\n",
              "      <td>0.046567</td>\n",
              "      <td>-0.072065</td>\n",
              "      <td>0.072065</td>\n",
              "      <td>0.003321</td>\n",
              "      <td>0.123769</td>\n",
              "      <td>-0.144686</td>\n",
              "    </tr>\n",
              "    <tr>\n",
              "      <th>waist</th>\n",
              "      <td>-0.008075</td>\n",
              "      <td>0.123726</td>\n",
              "      <td>0.218297</td>\n",
              "      <td>-0.266577</td>\n",
              "      <td>0.301908</td>\n",
              "      <td>0.223218</td>\n",
              "      <td>0.149434</td>\n",
              "      <td>0.050888</td>\n",
              "      <td>0.846362</td>\n",
              "      <td>0.194850</td>\n",
              "      <td>0.164976</td>\n",
              "      <td>1.000000</td>\n",
              "      <td>0.837080</td>\n",
              "      <td>0.220417</td>\n",
              "      <td>0.046024</td>\n",
              "      <td>-0.046024</td>\n",
              "      <td>0.398832</td>\n",
              "      <td>0.000393</td>\n",
              "      <td>-0.398022</td>\n",
              "    </tr>\n",
              "    <tr>\n",
              "      <th>hip</th>\n",
              "      <td>0.048370</td>\n",
              "      <td>0.078967</td>\n",
              "      <td>0.133411</td>\n",
              "      <td>-0.208785</td>\n",
              "      <td>0.193302</td>\n",
              "      <td>0.138550</td>\n",
              "      <td>0.008807</td>\n",
              "      <td>-0.106813</td>\n",
              "      <td>0.826496</td>\n",
              "      <td>0.135562</td>\n",
              "      <td>0.143979</td>\n",
              "      <td>0.837080</td>\n",
              "      <td>1.000000</td>\n",
              "      <td>0.135763</td>\n",
              "      <td>0.271884</td>\n",
              "      <td>-0.271884</td>\n",
              "      <td>0.277525</td>\n",
              "      <td>0.056573</td>\n",
              "      <td>-0.341269</td>\n",
              "    </tr>\n",
              "    <tr>\n",
              "      <th>Diabetic</th>\n",
              "      <td>0.008627</td>\n",
              "      <td>0.207415</td>\n",
              "      <td>0.685887</td>\n",
              "      <td>-0.126135</td>\n",
              "      <td>0.283366</td>\n",
              "      <td>0.855214</td>\n",
              "      <td>0.311686</td>\n",
              "      <td>0.013381</td>\n",
              "      <td>0.149066</td>\n",
              "      <td>0.219457</td>\n",
              "      <td>0.046567</td>\n",
              "      <td>0.220417</td>\n",
              "      <td>0.135763</td>\n",
              "      <td>1.000000</td>\n",
              "      <td>-0.023816</td>\n",
              "      <td>0.023816</td>\n",
              "      <td>0.145192</td>\n",
              "      <td>-0.021771</td>\n",
              "      <td>-0.119865</td>\n",
              "    </tr>\n",
              "    <tr>\n",
              "      <th>gender_female</th>\n",
              "      <td>-0.018867</td>\n",
              "      <td>0.015663</td>\n",
              "      <td>-0.089297</td>\n",
              "      <td>0.113834</td>\n",
              "      <td>-0.113095</td>\n",
              "      <td>-0.049657</td>\n",
              "      <td>-0.073509</td>\n",
              "      <td>-0.676997</td>\n",
              "      <td>-0.090791</td>\n",
              "      <td>-0.030733</td>\n",
              "      <td>-0.072065</td>\n",
              "      <td>0.046024</td>\n",
              "      <td>0.271884</td>\n",
              "      <td>-0.023816</td>\n",
              "      <td>1.000000</td>\n",
              "      <td>-1.000000</td>\n",
              "      <td>-0.205282</td>\n",
              "      <td>0.092496</td>\n",
              "      <td>0.098981</td>\n",
              "    </tr>\n",
              "    <tr>\n",
              "      <th>gender_male</th>\n",
              "      <td>0.018867</td>\n",
              "      <td>-0.015663</td>\n",
              "      <td>0.089297</td>\n",
              "      <td>-0.113834</td>\n",
              "      <td>0.113095</td>\n",
              "      <td>0.049657</td>\n",
              "      <td>0.073509</td>\n",
              "      <td>0.676997</td>\n",
              "      <td>0.090791</td>\n",
              "      <td>0.030733</td>\n",
              "      <td>0.072065</td>\n",
              "      <td>-0.046024</td>\n",
              "      <td>-0.271884</td>\n",
              "      <td>0.023816</td>\n",
              "      <td>-1.000000</td>\n",
              "      <td>1.000000</td>\n",
              "      <td>0.205282</td>\n",
              "      <td>-0.092496</td>\n",
              "      <td>-0.098981</td>\n",
              "    </tr>\n",
              "    <tr>\n",
              "      <th>frame_large</th>\n",
              "      <td>-0.121499</td>\n",
              "      <td>0.002038</td>\n",
              "      <td>0.160621</td>\n",
              "      <td>-0.198835</td>\n",
              "      <td>0.159980</td>\n",
              "      <td>0.131867</td>\n",
              "      <td>0.215558</td>\n",
              "      <td>0.092106</td>\n",
              "      <td>0.381702</td>\n",
              "      <td>0.111107</td>\n",
              "      <td>0.003321</td>\n",
              "      <td>0.398832</td>\n",
              "      <td>0.277525</td>\n",
              "      <td>0.145192</td>\n",
              "      <td>-0.205282</td>\n",
              "      <td>0.205282</td>\n",
              "      <td>1.000000</td>\n",
              "      <td>-0.570165</td>\n",
              "      <td>-0.345572</td>\n",
              "    </tr>\n",
              "    <tr>\n",
              "      <th>frame_medium</th>\n",
              "      <td>-0.018121</td>\n",
              "      <td>0.117604</td>\n",
              "      <td>-0.035944</td>\n",
              "      <td>0.022121</td>\n",
              "      <td>0.060944</td>\n",
              "      <td>0.011072</td>\n",
              "      <td>-0.041083</td>\n",
              "      <td>-0.089253</td>\n",
              "      <td>0.008581</td>\n",
              "      <td>0.058801</td>\n",
              "      <td>0.123769</td>\n",
              "      <td>0.000393</td>\n",
              "      <td>0.056573</td>\n",
              "      <td>-0.021771</td>\n",
              "      <td>0.092496</td>\n",
              "      <td>-0.092496</td>\n",
              "      <td>-0.570165</td>\n",
              "      <td>1.000000</td>\n",
              "      <td>-0.573884</td>\n",
              "    </tr>\n",
              "    <tr>\n",
              "      <th>frame_small</th>\n",
              "      <td>0.141814</td>\n",
              "      <td>-0.136365</td>\n",
              "      <td>-0.119057</td>\n",
              "      <td>0.172939</td>\n",
              "      <td>-0.229089</td>\n",
              "      <td>-0.144098</td>\n",
              "      <td>-0.167951</td>\n",
              "      <td>0.010133</td>\n",
              "      <td>-0.390299</td>\n",
              "      <td>-0.177922</td>\n",
              "      <td>-0.144686</td>\n",
              "      <td>-0.398022</td>\n",
              "      <td>-0.341269</td>\n",
              "      <td>-0.119865</td>\n",
              "      <td>0.098981</td>\n",
              "      <td>-0.098981</td>\n",
              "      <td>-0.345572</td>\n",
              "      <td>-0.573884</td>\n",
              "      <td>1.000000</td>\n",
              "    </tr>\n",
              "  </tbody>\n",
              "</table>\n",
              "</div>"
            ],
            "text/plain": [
              "                     id      chol  stab.glu       hdl     ratio     glyhb  \\\n",
              "id             1.000000  0.059130  0.009315  0.059142 -0.034029  0.010164   \n",
              "chol           0.059130  1.000000  0.150021  0.186581  0.475521  0.244407   \n",
              "stab.glu       0.009315  0.150021  1.000000 -0.161823  0.280216  0.747041   \n",
              "hdl            0.059142  0.186581 -0.161823  1.000000 -0.686907 -0.146987   \n",
              "ratio         -0.034029  0.475521  0.280216 -0.686907  1.000000  0.325137   \n",
              "glyhb          0.010164  0.244407  0.747041 -0.146987  0.325137  1.000000   \n",
              "age           -0.011083  0.233118  0.289258  0.038087  0.148509  0.335930   \n",
              "height        -0.036842 -0.058324  0.090315 -0.100981  0.094176  0.061628   \n",
              "weight        -0.018658  0.066239  0.184010 -0.289370  0.280148  0.166749   \n",
              "bp.1s          0.013613  0.202520  0.166285  0.019732  0.119153  0.196383   \n",
              "bp.1d          0.083374  0.171015  0.021990  0.065483  0.048134  0.031711   \n",
              "waist         -0.008075  0.123726  0.218297 -0.266577  0.301908  0.223218   \n",
              "hip            0.048370  0.078967  0.133411 -0.208785  0.193302  0.138550   \n",
              "Diabetic       0.008627  0.207415  0.685887 -0.126135  0.283366  0.855214   \n",
              "gender_female -0.018867  0.015663 -0.089297  0.113834 -0.113095 -0.049657   \n",
              "gender_male    0.018867 -0.015663  0.089297 -0.113834  0.113095  0.049657   \n",
              "frame_large   -0.121499  0.002038  0.160621 -0.198835  0.159980  0.131867   \n",
              "frame_medium  -0.018121  0.117604 -0.035944  0.022121  0.060944  0.011072   \n",
              "frame_small    0.141814 -0.136365 -0.119057  0.172939 -0.229089 -0.144098   \n",
              "\n",
              "                    age    height    weight     bp.1s     bp.1d     waist  \\\n",
              "id            -0.011083 -0.036842 -0.018658  0.013613  0.083374 -0.008075   \n",
              "chol           0.233118 -0.058324  0.066239  0.202520  0.171015  0.123726   \n",
              "stab.glu       0.289258  0.090315  0.184010  0.166285  0.021990  0.218297   \n",
              "hdl            0.038087 -0.100981 -0.289370  0.019732  0.065483 -0.266577   \n",
              "ratio          0.148509  0.094176  0.280148  0.119153  0.048134  0.301908   \n",
              "glyhb          0.335930  0.061628  0.166749  0.196383  0.031711  0.223218   \n",
              "age            1.000000 -0.090358 -0.055937  0.442328  0.058133  0.149434   \n",
              "height        -0.090358  1.000000  0.249728 -0.047200  0.037991  0.050888   \n",
              "weight        -0.055937  0.249728  1.000000  0.090466  0.174984  0.846362   \n",
              "bp.1s          0.442328 -0.047200  0.090466  1.000000  0.596557  0.194850   \n",
              "bp.1d          0.058133  0.037991  0.174984  0.596557  1.000000  0.164976   \n",
              "waist          0.149434  0.050888  0.846362  0.194850  0.164976  1.000000   \n",
              "hip            0.008807 -0.106813  0.826496  0.135562  0.143979  0.837080   \n",
              "Diabetic       0.311686  0.013381  0.149066  0.219457  0.046567  0.220417   \n",
              "gender_female -0.073509 -0.676997 -0.090791 -0.030733 -0.072065  0.046024   \n",
              "gender_male    0.073509  0.676997  0.090791  0.030733  0.072065 -0.046024   \n",
              "frame_large    0.215558  0.092106  0.381702  0.111107  0.003321  0.398832   \n",
              "frame_medium  -0.041083 -0.089253  0.008581  0.058801  0.123769  0.000393   \n",
              "frame_small   -0.167951  0.010133 -0.390299 -0.177922 -0.144686 -0.398022   \n",
              "\n",
              "                    hip  Diabetic  gender_female  gender_male  frame_large  \\\n",
              "id             0.048370  0.008627      -0.018867     0.018867    -0.121499   \n",
              "chol           0.078967  0.207415       0.015663    -0.015663     0.002038   \n",
              "stab.glu       0.133411  0.685887      -0.089297     0.089297     0.160621   \n",
              "hdl           -0.208785 -0.126135       0.113834    -0.113834    -0.198835   \n",
              "ratio          0.193302  0.283366      -0.113095     0.113095     0.159980   \n",
              "glyhb          0.138550  0.855214      -0.049657     0.049657     0.131867   \n",
              "age            0.008807  0.311686      -0.073509     0.073509     0.215558   \n",
              "height        -0.106813  0.013381      -0.676997     0.676997     0.092106   \n",
              "weight         0.826496  0.149066      -0.090791     0.090791     0.381702   \n",
              "bp.1s          0.135562  0.219457      -0.030733     0.030733     0.111107   \n",
              "bp.1d          0.143979  0.046567      -0.072065     0.072065     0.003321   \n",
              "waist          0.837080  0.220417       0.046024    -0.046024     0.398832   \n",
              "hip            1.000000  0.135763       0.271884    -0.271884     0.277525   \n",
              "Diabetic       0.135763  1.000000      -0.023816     0.023816     0.145192   \n",
              "gender_female  0.271884 -0.023816       1.000000    -1.000000    -0.205282   \n",
              "gender_male   -0.271884  0.023816      -1.000000     1.000000     0.205282   \n",
              "frame_large    0.277525  0.145192      -0.205282     0.205282     1.000000   \n",
              "frame_medium   0.056573 -0.021771       0.092496    -0.092496    -0.570165   \n",
              "frame_small   -0.341269 -0.119865       0.098981    -0.098981    -0.345572   \n",
              "\n",
              "               frame_medium  frame_small  \n",
              "id                -0.018121     0.141814  \n",
              "chol               0.117604    -0.136365  \n",
              "stab.glu          -0.035944    -0.119057  \n",
              "hdl                0.022121     0.172939  \n",
              "ratio              0.060944    -0.229089  \n",
              "glyhb              0.011072    -0.144098  \n",
              "age               -0.041083    -0.167951  \n",
              "height            -0.089253     0.010133  \n",
              "weight             0.008581    -0.390299  \n",
              "bp.1s              0.058801    -0.177922  \n",
              "bp.1d              0.123769    -0.144686  \n",
              "waist              0.000393    -0.398022  \n",
              "hip                0.056573    -0.341269  \n",
              "Diabetic          -0.021771    -0.119865  \n",
              "gender_female      0.092496     0.098981  \n",
              "gender_male       -0.092496    -0.098981  \n",
              "frame_large       -0.570165    -0.345572  \n",
              "frame_medium       1.000000    -0.573884  \n",
              "frame_small       -0.573884     1.000000  "
            ]
          },
          "execution_count": 186,
          "metadata": {},
          "output_type": "execute_result"
        }
      ],
      "source": [
        "#Are the independent variables correlated? We get the Pearson's correlation to find out. A heatmap can also give better visualization.\n",
        "corr = diabetes.corr()\n",
        "corr "
      ]
    },
    {
      "cell_type": "markdown",
      "metadata": {},
      "source": [
        "**Visual representation of multi-colinearity**"
      ]
    },
    {
      "cell_type": "code",
      "execution_count": 187,
      "metadata": {},
      "outputs": [
        {
          "data": {
            "image/png": "[encoded data removed]",
            "text/plain": [
              "<Figure size 792x648 with 2 Axes>"
            ]
          },
          "metadata": {},
          "output_type": "display_data"
        }
      ],
      "source": [
        "sns.set(style=\"white\")\n",
        "# Create a covariance matrix\n",
        "corr = diabetes.corr()\n",
        "\n",
        "# Creating a mask the size of our covariance matrix\n",
        "mask = np.zeros_like(corr, dtype=bool)\n",
        "mask[np.triu_indices_from(mask)] = True\n",
        "\n",
        "# Set up the matplotlib figure\n",
        "f, ax = plt.subplots(figsize=(11,9))\n",
        "\n",
        "# Generate a custom diverging colormap\n",
        "cmap = sns.diverging_palette(220,10,as_cmap=True)\n",
        "\n",
        "# Draw the heatmap with the mask and correct aspect ratio\n",
        "sns.heatmap(corr,mask=mask,cmap=cmap,vmax=1,center=0,square=True, \n",
        "            linewidth=.5, cbar_kws={'shrink': .5},\n",
        "            annot=True,\n",
        "            annot_kws={'fontsize':11, 'fontweight':'bold'})\n",
        "\n",
        "            \n",
        "ax.set_title('Multi-Collinearity of Features')\n",
        "plt.savefig('correlation2.png')\n"
      ]
    },
    {
      "cell_type": "code",
      "execution_count": 188,
      "metadata": {},
      "outputs": [
        {
          "name": "stdout",
          "output_type": "stream",
          "text": [
            "               id     chol  stab.glu       hdl     ratio     glyhb       age  \\\n",
            "id            NaN  0.05913  0.009315  0.059142 -0.034029  0.010164 -0.011083   \n",
            "chol          NaN      NaN  0.150021  0.186581  0.475521  0.244407  0.233118   \n",
            "stab.glu      NaN      NaN       NaN -0.161823  0.280216  0.747041  0.289258   \n",
            "hdl           NaN      NaN       NaN       NaN -0.686907 -0.146987  0.038087   \n",
            "ratio         NaN      NaN       NaN       NaN       NaN  0.325137  0.148509   \n",
            "glyhb         NaN      NaN       NaN       NaN       NaN       NaN  0.335930   \n",
            "age           NaN      NaN       NaN       NaN       NaN       NaN       NaN   \n",
            "height        NaN      NaN       NaN       NaN       NaN       NaN       NaN   \n",
            "weight        NaN      NaN       NaN       NaN       NaN       NaN       NaN   \n",
            "bp.1s         NaN      NaN       NaN       NaN       NaN       NaN       NaN   \n",
            "bp.1d         NaN      NaN       NaN       NaN       NaN       NaN       NaN   \n",
            "waist         NaN      NaN       NaN       NaN       NaN       NaN       NaN   \n",
            "hip           NaN      NaN       NaN       NaN       NaN       NaN       NaN   \n",
            "Diabetic      NaN      NaN       NaN       NaN       NaN       NaN       NaN   \n",
            "gender_female NaN      NaN       NaN       NaN       NaN       NaN       NaN   \n",
            "gender_male   NaN      NaN       NaN       NaN       NaN       NaN       NaN   \n",
            "frame_large   NaN      NaN       NaN       NaN       NaN       NaN       NaN   \n",
            "frame_medium  NaN      NaN       NaN       NaN       NaN       NaN       NaN   \n",
            "frame_small   NaN      NaN       NaN       NaN       NaN       NaN       NaN   \n",
            "\n",
            "                 height    weight     bp.1s     bp.1d     waist       hip  \\\n",
            "id            -0.036842 -0.018658  0.013613  0.083374 -0.008075  0.048370   \n",
            "chol          -0.058324  0.066239  0.202520  0.171015  0.123726  0.078967   \n",
            "stab.glu       0.090315  0.184010  0.166285  0.021990  0.218297  0.133411   \n",
            "hdl           -0.100981 -0.289370  0.019732  0.065483 -0.266577 -0.208785   \n",
            "ratio          0.094176  0.280148  0.119153  0.048134  0.301908  0.193302   \n",
            "glyhb          0.061628  0.166749  0.196383  0.031711  0.223218  0.138550   \n",
            "age           -0.090358 -0.055937  0.442328  0.058133  0.149434  0.008807   \n",
            "height              NaN  0.249728 -0.047200  0.037991  0.050888 -0.106813   \n",
            "weight              NaN       NaN  0.090466  0.174984  0.846362  0.826496   \n",
            "bp.1s               NaN       NaN       NaN  0.596557  0.194850  0.135562   \n",
            "bp.1d               NaN       NaN       NaN       NaN  0.164976  0.143979   \n",
            "waist               NaN       NaN       NaN       NaN       NaN  0.837080   \n",
            "hip                 NaN       NaN       NaN       NaN       NaN       NaN   \n",
            "Diabetic            NaN       NaN       NaN       NaN       NaN       NaN   \n",
            "gender_female       NaN       NaN       NaN       NaN       NaN       NaN   \n",
            "gender_male         NaN       NaN       NaN       NaN       NaN       NaN   \n",
            "frame_large         NaN       NaN       NaN       NaN       NaN       NaN   \n",
            "frame_medium        NaN       NaN       NaN       NaN       NaN       NaN   \n",
            "frame_small         NaN       NaN       NaN       NaN       NaN       NaN   \n",
            "\n",
            "               Diabetic  gender_female  gender_male  frame_large  \\\n",
            "id             0.008627      -0.018867     0.018867    -0.121499   \n",
            "chol           0.207415       0.015663    -0.015663     0.002038   \n",
            "stab.glu       0.685887      -0.089297     0.089297     0.160621   \n",
            "hdl           -0.126135       0.113834    -0.113834    -0.198835   \n",
            "ratio          0.283366      -0.113095     0.113095     0.159980   \n",
            "glyhb          0.855214      -0.049657     0.049657     0.131867   \n",
            "age            0.311686      -0.073509     0.073509     0.215558   \n",
            "height         0.013381      -0.676997     0.676997     0.092106   \n",
            "weight         0.149066      -0.090791     0.090791     0.381702   \n",
            "bp.1s          0.219457      -0.030733     0.030733     0.111107   \n",
            "bp.1d          0.046567      -0.072065     0.072065     0.003321   \n",
            "waist          0.220417       0.046024    -0.046024     0.398832   \n",
            "hip            0.135763       0.271884    -0.271884     0.277525   \n",
            "Diabetic            NaN      -0.023816     0.023816     0.145192   \n",
            "gender_female       NaN            NaN    -1.000000    -0.205282   \n",
            "gender_male         NaN            NaN          NaN     0.205282   \n",
            "frame_large         NaN            NaN          NaN          NaN   \n",
            "frame_medium        NaN            NaN          NaN          NaN   \n",
            "frame_small         NaN            NaN          NaN          NaN   \n",
            "\n",
            "               frame_medium  frame_small  \n",
            "id                -0.018121     0.141814  \n",
            "chol               0.117604    -0.136365  \n",
            "stab.glu          -0.035944    -0.119057  \n",
            "hdl                0.022121     0.172939  \n",
            "ratio              0.060944    -0.229089  \n",
            "glyhb              0.011072    -0.144098  \n",
            "age               -0.041083    -0.167951  \n",
            "height            -0.089253     0.010133  \n",
            "weight             0.008581    -0.390299  \n",
            "bp.1s              0.058801    -0.177922  \n",
            "bp.1d              0.123769    -0.144686  \n",
            "waist              0.000393    -0.398022  \n",
            "hip                0.056573    -0.341269  \n",
            "Diabetic          -0.021771    -0.119865  \n",
            "gender_female      0.092496     0.098981  \n",
            "gender_male       -0.092496    -0.098981  \n",
            "frame_large       -0.570165    -0.345572  \n",
            "frame_medium            NaN    -0.573884  \n",
            "frame_small             NaN          NaN  \n"
          ]
        },
        {
          "name": "stderr",
          "output_type": "stream",
          "text": [
            "<ipython-input-188-05ebe19effb4>:1: DeprecationWarning: `np.bool` is a deprecated alias for the builtin `bool`. To silence this warning, use `bool` by itself. Doing this will not modify any behavior and is safe. If you specifically wanted the numpy scalar type, use `np.bool_` here.\n",
            "Deprecated in NumPy 1.20; for more details and guidance: https://numpy.org/devdocs/release/1.20.0-notes.html#deprecations\n",
            "  upper_tri = corr.where(np.triu(np.ones(corr.shape),k=1).astype(np.bool))\n"
          ]
        }
      ],
      "source": [
        "upper_tri = corr.where(np.triu(np.ones(corr.shape),k=1).astype(np.bool))\n",
        "print(upper_tri)"
      ]
    },
    {
      "cell_type": "markdown",
      "metadata": {},
      "source": [
        "### Droping the column with high correlation\n"
      ]
    },
    {
      "cell_type": "markdown",
      "metadata": {},
      "source": [
        "**So we are selecting the columns which are having absolute correlation greater than 0.80 and making a list of those columns named 'to_drop'.**"
      ]
    },
    {
      "cell_type": "code",
      "execution_count": 189,
      "metadata": {},
      "outputs": [
        {
          "name": "stdout",
          "output_type": "stream",
          "text": [
            "\n",
            "['waist', 'hip', 'Diabetic']\n"
          ]
        }
      ],
      "source": [
        "to_drop = [column for column in upper_tri.columns if any(upper_tri[column] > 0.80)]\n",
        "print(); print(to_drop)"
      ]
    },
    {
      "cell_type": "markdown",
      "metadata": {},
      "source": [
        "**Dropping columns with evidence of milti-colinearity**"
      ]
    },
    {
      "cell_type": "markdown",
      "metadata": {},
      "source": [
        "Now we are droping the columns which are in the list **'to_drop'** from the dataset to deal with multi-colinearity. Also, from the attribute information, You should notice that the **hbl** column is cholesterol level while **ratio** column isthe ratio of total cholesterol to good cholesterol and the desirable level should be <5. So we'll ignore the hbl columns during *feature selection* asboth colums give information on level of cholesterol and ratio gives more meaningful cholesterol information to remove redundancy from our data."
      ]
    },
    {
      "cell_type": "code",
      "execution_count": 190,
      "metadata": {},
      "outputs": [],
      "source": [
        "clean_diabetes = diabetes.drop(columns=[\"waist\", \"hip\", \"hdl\",\"id\"], axis = 1)\n",
        "\n"
      ]
    },
    {
      "cell_type": "code",
      "execution_count": 191,
      "metadata": {},
      "outputs": [
        {
          "data": {
            "text/html": [
              "<div>\n",
              "<style scoped>\n",
              "    .dataframe tbody tr th:only-of-type {\n",
              "        vertical-align: middle;\n",
              "    }\n",
              "\n",
              "    .dataframe tbody tr th {\n",
              "        vertical-align: top;\n",
              "    }\n",
              "\n",
              "    .dataframe thead th {\n",
              "        text-align: right;\n",
              "    }\n",
              "</style>\n",
              "<table border=\"1\" class=\"dataframe\">\n",
              "  <thead>\n",
              "    <tr style=\"text-align: right;\">\n",
              "      <th></th>\n",
              "      <th>chol</th>\n",
              "      <th>stab.glu</th>\n",
              "      <th>ratio</th>\n",
              "      <th>glyhb</th>\n",
              "      <th>age</th>\n",
              "      <th>height</th>\n",
              "      <th>weight</th>\n",
              "      <th>bp.1s</th>\n",
              "      <th>bp.1d</th>\n",
              "      <th>Diabetic</th>\n",
              "      <th>gender_female</th>\n",
              "      <th>gender_male</th>\n",
              "      <th>frame_large</th>\n",
              "      <th>frame_medium</th>\n",
              "      <th>frame_small</th>\n",
              "    </tr>\n",
              "  </thead>\n",
              "  <tbody>\n",
              "    <tr>\n",
              "      <th>0</th>\n",
              "      <td>203.0</td>\n",
              "      <td>82</td>\n",
              "      <td>3.6</td>\n",
              "      <td>4.31</td>\n",
              "      <td>46</td>\n",
              "      <td>62.0</td>\n",
              "      <td>121.0</td>\n",
              "      <td>118.0</td>\n",
              "      <td>59.0</td>\n",
              "      <td>0</td>\n",
              "      <td>1</td>\n",
              "      <td>0</td>\n",
              "      <td>0</td>\n",
              "      <td>1</td>\n",
              "      <td>0</td>\n",
              "    </tr>\n",
              "    <tr>\n",
              "      <th>1</th>\n",
              "      <td>165.0</td>\n",
              "      <td>97</td>\n",
              "      <td>6.9</td>\n",
              "      <td>4.44</td>\n",
              "      <td>29</td>\n",
              "      <td>64.0</td>\n",
              "      <td>218.0</td>\n",
              "      <td>112.0</td>\n",
              "      <td>68.0</td>\n",
              "      <td>0</td>\n",
              "      <td>1</td>\n",
              "      <td>0</td>\n",
              "      <td>1</td>\n",
              "      <td>0</td>\n",
              "      <td>0</td>\n",
              "    </tr>\n",
              "    <tr>\n",
              "      <th>2</th>\n",
              "      <td>228.0</td>\n",
              "      <td>92</td>\n",
              "      <td>6.2</td>\n",
              "      <td>4.64</td>\n",
              "      <td>58</td>\n",
              "      <td>61.0</td>\n",
              "      <td>256.0</td>\n",
              "      <td>190.0</td>\n",
              "      <td>92.0</td>\n",
              "      <td>0</td>\n",
              "      <td>1</td>\n",
              "      <td>0</td>\n",
              "      <td>1</td>\n",
              "      <td>0</td>\n",
              "      <td>0</td>\n",
              "    </tr>\n",
              "    <tr>\n",
              "      <th>3</th>\n",
              "      <td>78.0</td>\n",
              "      <td>93</td>\n",
              "      <td>6.5</td>\n",
              "      <td>4.63</td>\n",
              "      <td>67</td>\n",
              "      <td>67.0</td>\n",
              "      <td>119.0</td>\n",
              "      <td>110.0</td>\n",
              "      <td>50.0</td>\n",
              "      <td>0</td>\n",
              "      <td>0</td>\n",
              "      <td>1</td>\n",
              "      <td>1</td>\n",
              "      <td>0</td>\n",
              "      <td>0</td>\n",
              "    </tr>\n",
              "    <tr>\n",
              "      <th>4</th>\n",
              "      <td>249.0</td>\n",
              "      <td>90</td>\n",
              "      <td>8.9</td>\n",
              "      <td>7.72</td>\n",
              "      <td>64</td>\n",
              "      <td>68.0</td>\n",
              "      <td>183.0</td>\n",
              "      <td>138.0</td>\n",
              "      <td>80.0</td>\n",
              "      <td>1</td>\n",
              "      <td>0</td>\n",
              "      <td>1</td>\n",
              "      <td>0</td>\n",
              "      <td>1</td>\n",
              "      <td>0</td>\n",
              "    </tr>\n",
              "  </tbody>\n",
              "</table>\n",
              "</div>"
            ],
            "text/plain": [
              "    chol  stab.glu  ratio  glyhb  age  height  weight  bp.1s  bp.1d  Diabetic  \\\n",
              "0  203.0        82    3.6   4.31   46    62.0   121.0  118.0   59.0         0   \n",
              "1  165.0        97    6.9   4.44   29    64.0   218.0  112.0   68.0         0   \n",
              "2  228.0        92    6.2   4.64   58    61.0   256.0  190.0   92.0         0   \n",
              "3   78.0        93    6.5   4.63   67    67.0   119.0  110.0   50.0         0   \n",
              "4  249.0        90    8.9   7.72   64    68.0   183.0  138.0   80.0         1   \n",
              "\n",
              "   gender_female  gender_male  frame_large  frame_medium  frame_small  \n",
              "0              1            0            0             1            0  \n",
              "1              1            0            1             0            0  \n",
              "2              1            0            1             0            0  \n",
              "3              0            1            1             0            0  \n",
              "4              0            1            0             1            0  "
            ]
          },
          "execution_count": 191,
          "metadata": {},
          "output_type": "execute_result"
        }
      ],
      "source": [
        "clean_diabetes.head()"
      ]
    },
    {
      "cell_type": "code",
      "execution_count": 192,
      "metadata": {},
      "outputs": [
        {
          "data": {
            "text/plain": [
              "(403, 15)"
            ]
          },
          "execution_count": 192,
          "metadata": {},
          "output_type": "execute_result"
        }
      ],
      "source": [
        "clean_diabetes.shape"
      ]
    },
    {
      "cell_type": "markdown",
      "metadata": {},
      "source": [
        "# 8) Model development"
      ]
    },
    {
      "cell_type": "markdown",
      "metadata": {},
      "source": [
        "### Model prediction"
      ]
    },
    {
      "cell_type": "markdown",
      "metadata": {},
      "source": [
        "**Define the features `X` (the input features) and label `y` (the output feature)**\n"
      ]
    },
    {
      "cell_type": "code",
      "execution_count": 193,
      "metadata": {},
      "outputs": [],
      "source": [
        "X = clean_diabetes.drop(columns=[\"Diabetic\"])\n",
        "\n",
        "y = clean_diabetes[\"Diabetic\"]"
      ]
    },
    {
      "cell_type": "markdown",
      "metadata": {},
      "source": [
        "**Standardise all the input features**"
      ]
    },
    {
      "cell_type": "code",
      "execution_count": 194,
      "metadata": {},
      "outputs": [],
      "source": [
        "X = pd.DataFrame(StandardScaler().fit_transform(X), columns=X.columns)"
      ]
    },
    {
      "cell_type": "markdown",
      "metadata": {},
      "source": [
        "Next we split the data into training and testing sets **before** anything else i.e **sampling** in order to avoid overfitting and model leakage"
      ]
    },
    {
      "cell_type": "markdown",
      "metadata": {},
      "source": [
        "## Train test split\n"
      ]
    },
    {
      "cell_type": "markdown",
      "metadata": {},
      "source": [
        "**Generate the test and train datasets from your `X` and `y` data, with 30% of the data for testing**"
      ]
    },
    {
      "cell_type": "code",
      "execution_count": 195,
      "metadata": {},
      "outputs": [],
      "source": [
        "X_train, X_test, y_train, y_test = train_test_split(X, y, train_size=0.80, random_state=0, stratify=y)"
      ]
    },
    {
      "cell_type": "code",
      "execution_count": 196,
      "metadata": {},
      "outputs": [
        {
          "name": "stdout",
          "output_type": "stream",
          "text": [
            "Shape of Training set :  (322, 14)\n",
            "Shape of test set :  (81, 14)\n",
            "\n",
            "\n",
            "Percentage of classes in training set:\n",
            "0    0.838509\n",
            "1    0.161491\n",
            "Name: Diabetic, dtype: float64\n",
            "\n",
            "\n",
            "Percentage of classes in test set:\n",
            "0    0.839506\n",
            "1    0.160494\n",
            "Name: Diabetic, dtype: float64\n",
            "\n",
            "\n",
            "Train propotion: 80%\n"
          ]
        }
      ],
      "source": [
        "print(\"Shape of Training set : \", X_train.shape)\n",
        "print(\"Shape of test set : \", X_test.shape)\n",
        "print(\"\\n\")\n",
        "print(\"Percentage of classes in training set:\")\n",
        "print(y_train.value_counts(normalize=True))\n",
        "print(\"\\n\")\n",
        "print(\"Percentage of classes in test set:\")\n",
        "print(y_test.value_counts(normalize=True))\n",
        "print(\"\\n\")\n",
        "print(\"Train propotion: {:.0%}\".format(len(X_train) / (len(X_train) + len(X_test))))"
      ]
    },
    {
      "cell_type": "markdown",
      "metadata": {},
      "source": [
        "**defining a function to compute different metrics to check performance of a classification model built using sklearn**\n"
      ]
    },
    {
      "cell_type": "code",
      "execution_count": 197,
      "metadata": {},
      "outputs": [],
      "source": [
        "# defining a function to compute different metrics to check performance of a classification model built using sklearn\n",
        "\n",
        "\n",
        "def model_performance_classification_sklearn(model, predictors, target):\n",
        "    \"\"\"\n",
        "    Function to compute different metrics to check classification model performance\n",
        "\n",
        "    model: classifier\n",
        "    predictors: independent variables\n",
        "    target: dependent variable\n",
        "    \"\"\"\n",
        "\n",
        "    # predicting using the independent variables\n",
        "    pred = model.predict(predictors)\n",
        "\n",
        "    acc = accuracy_score(target, pred)  # to compute Accuracy\n",
        "    recall = recall_score(target, pred)  # to compute Recall\n",
        "    precision = precision_score(target, pred)  # to compute Precision\n",
        "    f1 = f1_score(target, pred)  # to compute F1-score\n",
        "\n",
        "    # creating a dataframe of metrics\n",
        "    df_perf = pd.DataFrame(\n",
        "        {\"Accuracy\": acc, \"Recall\": recall, \"Precision\": precision, \"F1\": f1,},\n",
        "        index=[0],\n",
        "    )\n",
        "\n",
        "    return df_perf"
      ]
    },
    {
      "cell_type": "markdown",
      "metadata": {},
      "source": [
        "**Defining a function for the confusion matrix to show accuracy**"
      ]
    },
    {
      "cell_type": "code",
      "execution_count": 198,
      "metadata": {},
      "outputs": [],
      "source": [
        "def confusion_matrix_sklearn(model, predictors, target):\n",
        "    \"\"\"\n",
        "    To plot the confusion_matrix with percentages\n",
        "\n",
        "    model: classifier\n",
        "    predictors: independent variables\n",
        "    target: dependent variable\n",
        "    \"\"\"\n",
        "    y_pred = model.predict(predictors)\n",
        "    cm = confusion_matrix(target, y_pred)\n",
        "    labels = np.asarray(\n",
        "        [\n",
        "            [\"{0:0.0f}\".format(item) + \"\\n{0:.2%}\".format(item / cm.flatten().sum())]\n",
        "            for item in cm.flatten()\n",
        "        ]\n",
        "    ).reshape(2, 2)\n",
        "\n",
        "    plt.figure(figsize=(6, 4))\n",
        "    sns.heatmap(cm, annot=labels, fmt=\"\", cmap=\"Blues\")\n",
        "    plt.ylabel(\"True label\")\n",
        "    plt.xlabel(\"Predicted label\")"
      ]
    },
    {
      "cell_type": "markdown",
      "metadata": {},
      "source": [
        "### Logistic regression model"
      ]
    },
    {
      "cell_type": "code",
      "execution_count": 199,
      "metadata": {},
      "outputs": [
        {
          "data": {
            "text/plain": [
              "LogisticRegression(random_state=1)"
            ]
          },
          "execution_count": 199,
          "metadata": {},
          "output_type": "execute_result"
        }
      ],
      "source": [
        "#Initialize the logistic regression model\n",
        "lr = LogisticRegression(random_state=1)\n",
        "lr.fit(X_train, y_train)\n"
      ]
    },
    {
      "cell_type": "markdown",
      "metadata": {},
      "source": [
        "### Model performance before sampling"
      ]
    },
    {
      "cell_type": "markdown",
      "metadata": {},
      "source": [
        "**Precision:** Of all patients we've predicted as diabetic, what fraction actually diabetic?(The percentage of your results that are relevant)\n",
        "\n",
        "**Recall:** Of all patients that are actually diabetic, what fraction did we correctly detect as diabetic?(percentage of total relrevant results correctly classified by your algorithm)"
      ]
    },
    {
      "cell_type": "code",
      "execution_count": 200,
      "metadata": {},
      "outputs": [
        {
          "name": "stdout",
          "output_type": "stream",
          "text": [
            "Training performance:\n"
          ]
        },
        {
          "data": {
            "text/html": [
              "<div>\n",
              "<style scoped>\n",
              "    .dataframe tbody tr th:only-of-type {\n",
              "        vertical-align: middle;\n",
              "    }\n",
              "\n",
              "    .dataframe tbody tr th {\n",
              "        vertical-align: top;\n",
              "    }\n",
              "\n",
              "    .dataframe thead th {\n",
              "        text-align: right;\n",
              "    }\n",
              "</style>\n",
              "<table border=\"1\" class=\"dataframe\">\n",
              "  <thead>\n",
              "    <tr style=\"text-align: right;\">\n",
              "      <th></th>\n",
              "      <th>Accuracy</th>\n",
              "      <th>Recall</th>\n",
              "      <th>Precision</th>\n",
              "      <th>F1</th>\n",
              "    </tr>\n",
              "  </thead>\n",
              "  <tbody>\n",
              "    <tr>\n",
              "      <th>0</th>\n",
              "      <td>0.990683</td>\n",
              "      <td>0.961538</td>\n",
              "      <td>0.980392</td>\n",
              "      <td>0.970874</td>\n",
              "    </tr>\n",
              "  </tbody>\n",
              "</table>\n",
              "</div>"
            ],
            "text/plain": [
              "   Accuracy    Recall  Precision        F1\n",
              "0  0.990683  0.961538   0.980392  0.970874"
            ]
          },
          "execution_count": 200,
          "metadata": {},
          "output_type": "execute_result"
        }
      ],
      "source": [
        "# Calculating different metrics on train set\n",
        "\n",
        "lr = LogisticRegression(random_state=1)\n",
        "lr.fit(X_train, y_train)\n",
        "\n",
        "log_reg_model_train_perf = model_performance_classification_sklearn(\n",
        "    lr, X_train, y_train\n",
        ")\n",
        "print(\"Training performance:\")\n",
        "log_reg_model_train_perf"
      ]
    },
    {
      "cell_type": "code",
      "execution_count": 201,
      "metadata": {},
      "outputs": [
        {
          "name": "stdout",
          "output_type": "stream",
          "text": [
            "Testing performance:\n"
          ]
        },
        {
          "data": {
            "text/html": [
              "<div>\n",
              "<style scoped>\n",
              "    .dataframe tbody tr th:only-of-type {\n",
              "        vertical-align: middle;\n",
              "    }\n",
              "\n",
              "    .dataframe tbody tr th {\n",
              "        vertical-align: top;\n",
              "    }\n",
              "\n",
              "    .dataframe thead th {\n",
              "        text-align: right;\n",
              "    }\n",
              "</style>\n",
              "<table border=\"1\" class=\"dataframe\">\n",
              "  <thead>\n",
              "    <tr style=\"text-align: right;\">\n",
              "      <th></th>\n",
              "      <th>Accuracy</th>\n",
              "      <th>Recall</th>\n",
              "      <th>Precision</th>\n",
              "      <th>F1</th>\n",
              "    </tr>\n",
              "  </thead>\n",
              "  <tbody>\n",
              "    <tr>\n",
              "      <th>0</th>\n",
              "      <td>1.0</td>\n",
              "      <td>1.0</td>\n",
              "      <td>1.0</td>\n",
              "      <td>1.0</td>\n",
              "    </tr>\n",
              "  </tbody>\n",
              "</table>\n",
              "</div>"
            ],
            "text/plain": [
              "   Accuracy  Recall  Precision   F1\n",
              "0       1.0     1.0        1.0  1.0"
            ]
          },
          "execution_count": 201,
          "metadata": {},
          "output_type": "execute_result"
        }
      ],
      "source": [
        "# Calculating different metrics on test set\n",
        "log_reg_model_val_perf = model_performance_classification_sklearn(lr, X_test, y_test)\n",
        "print(\"Testing performance:\")\n",
        "log_reg_model_val_perf"
      ]
    },
    {
      "cell_type": "code",
      "execution_count": 202,
      "metadata": {},
      "outputs": [
        {
          "data": {
            "image/png": "[encoded data removed]",
            "text/plain": [
              "<Figure size 432x288 with 2 Axes>"
            ]
          },
          "metadata": {},
          "output_type": "display_data"
        }
      ],
      "source": [
        "# creating confusion matrix\n",
        "confusion_matrix_sklearn(lr, X_test, y_test)"
      ]
    },
    {
      "cell_type": "markdown",
      "metadata": {},
      "source": [
        "**Upsampling**"
      ]
    },
    {
      "cell_type": "code",
      "execution_count": 203,
      "metadata": {},
      "outputs": [
        {
          "name": "stdout",
          "output_type": "stream",
          "text": [
            "Before UpSampling, counts of label '+': 52\n",
            "Before UpSampling, counts of label '-': 270 \n",
            "\n",
            "After UpSampling, counts of label '+': 270\n",
            "After UpSampling, counts of label '-': 270 \n",
            "\n",
            "After UpSampling, the shape of train_X: (540, 14)\n",
            "After UpSampling, the shape of train_y: (540,) \n",
            "\n"
          ]
        }
      ],
      "source": [
        "print(\"Before UpSampling, counts of label '+': {}\".format(sum(y_train == 1)))\n",
        "print(\"Before UpSampling, counts of label '-': {} \\n\".format(sum(y_train == 0)))\n",
        "\n",
        "sm = SMOTE(\n",
        "    sampling_strategy=1, k_neighbors=5, random_state=1\n",
        ")  # Synthetic Minority Over Sampling Technique\n",
        "X_train_over, y_train_over = sm.fit_resample(X_train, y_train)\n",
        "\n",
        "\n",
        "print(\"After UpSampling, counts of label '+': {}\".format(sum(y_train_over == 1)))\n",
        "print(\"After UpSampling, counts of label '-': {} \\n\".format(sum(y_train_over == 0)))\n",
        "\n",
        "\n",
        "print(\"After UpSampling, the shape of train_X: {}\".format(X_train_over.shape))\n",
        "print(\"After UpSampling, the shape of train_y: {} \\n\".format(y_train_over.shape))"
      ]
    },
    {
      "cell_type": "code",
      "execution_count": 204,
      "metadata": {},
      "outputs": [
        {
          "data": {
            "text/plain": [
              "LogisticRegression(random_state=1)"
            ]
          },
          "execution_count": 204,
          "metadata": {},
          "output_type": "execute_result"
        }
      ],
      "source": [
        "log_reg_over = LogisticRegression(random_state=1)\n",
        "\n",
        "# Training the basic logistic regression model with training set\n",
        "log_reg_over.fit(X_train_over, y_train_over)"
      ]
    },
    {
      "cell_type": "markdown",
      "metadata": {},
      "source": [
        "### Model performance after sampling"
      ]
    },
    {
      "cell_type": "code",
      "execution_count": 205,
      "metadata": {},
      "outputs": [
        {
          "name": "stdout",
          "output_type": "stream",
          "text": [
            "Training performance:\n"
          ]
        },
        {
          "data": {
            "text/html": [
              "<div>\n",
              "<style scoped>\n",
              "    .dataframe tbody tr th:only-of-type {\n",
              "        vertical-align: middle;\n",
              "    }\n",
              "\n",
              "    .dataframe tbody tr th {\n",
              "        vertical-align: top;\n",
              "    }\n",
              "\n",
              "    .dataframe thead th {\n",
              "        text-align: right;\n",
              "    }\n",
              "</style>\n",
              "<table border=\"1\" class=\"dataframe\">\n",
              "  <thead>\n",
              "    <tr style=\"text-align: right;\">\n",
              "      <th></th>\n",
              "      <th>Accuracy</th>\n",
              "      <th>Recall</th>\n",
              "      <th>Precision</th>\n",
              "      <th>F1</th>\n",
              "    </tr>\n",
              "  </thead>\n",
              "  <tbody>\n",
              "    <tr>\n",
              "      <th>0</th>\n",
              "      <td>0.994444</td>\n",
              "      <td>0.996296</td>\n",
              "      <td>0.99262</td>\n",
              "      <td>0.994455</td>\n",
              "    </tr>\n",
              "  </tbody>\n",
              "</table>\n",
              "</div>"
            ],
            "text/plain": [
              "   Accuracy    Recall  Precision        F1\n",
              "0  0.994444  0.996296    0.99262  0.994455"
            ]
          },
          "execution_count": 205,
          "metadata": {},
          "output_type": "execute_result"
        }
      ],
      "source": [
        "# Calculating different metrics on train set\n",
        "log_reg_over_train_perf = model_performance_classification_sklearn(\n",
        "    log_reg_over, X_train_over, y_train_over\n",
        ")\n",
        "print(\"Training performance:\")\n",
        "log_reg_over_train_perf"
      ]
    },
    {
      "cell_type": "code",
      "execution_count": 206,
      "metadata": {},
      "outputs": [
        {
          "name": "stdout",
          "output_type": "stream",
          "text": [
            "Testing performance:\n"
          ]
        },
        {
          "data": {
            "text/html": [
              "<div>\n",
              "<style scoped>\n",
              "    .dataframe tbody tr th:only-of-type {\n",
              "        vertical-align: middle;\n",
              "    }\n",
              "\n",
              "    .dataframe tbody tr th {\n",
              "        vertical-align: top;\n",
              "    }\n",
              "\n",
              "    .dataframe thead th {\n",
              "        text-align: right;\n",
              "    }\n",
              "</style>\n",
              "<table border=\"1\" class=\"dataframe\">\n",
              "  <thead>\n",
              "    <tr style=\"text-align: right;\">\n",
              "      <th></th>\n",
              "      <th>Accuracy</th>\n",
              "      <th>Recall</th>\n",
              "      <th>Precision</th>\n",
              "      <th>F1</th>\n",
              "    </tr>\n",
              "  </thead>\n",
              "  <tbody>\n",
              "    <tr>\n",
              "      <th>0</th>\n",
              "      <td>0.987654</td>\n",
              "      <td>1.0</td>\n",
              "      <td>0.928571</td>\n",
              "      <td>0.962963</td>\n",
              "    </tr>\n",
              "  </tbody>\n",
              "</table>\n",
              "</div>"
            ],
            "text/plain": [
              "   Accuracy  Recall  Precision        F1\n",
              "0  0.987654     1.0   0.928571  0.962963"
            ]
          },
          "execution_count": 206,
          "metadata": {},
          "output_type": "execute_result"
        }
      ],
      "source": [
        "# Calculating different metrics on test set\n",
        "log_reg_over_val_perf = model_performance_classification_sklearn(\n",
        "    log_reg_over, X_test, y_test\n",
        ")\n",
        "print(\"Testing performance:\")\n",
        "log_reg_over_val_perf"
      ]
    },
    {
      "cell_type": "code",
      "execution_count": 207,
      "metadata": {},
      "outputs": [
        {
          "data": {
            "image/png": "[encoded data removed]",
            "text/plain": [
              "<Figure size 432x288 with 2 Axes>"
            ]
          },
          "metadata": {},
          "output_type": "display_data"
        }
      ],
      "source": [
        "# creating confusion matrix\n",
        "confusion_matrix_sklearn(log_reg_over, X_test, y_test)"
      ]
    },
    {
      "cell_type": "markdown",
      "metadata": {},
      "source": [
        "### Random Forest"
      ]
    },
    {
      "cell_type": "code",
      "execution_count": 237,
      "metadata": {},
      "outputs": [],
      "source": [
        "scorer = metrics.make_scorer(metrics.f1_score)"
      ]
    },
    {
      "cell_type": "markdown",
      "metadata": {},
      "source": [
        "**Tuning Random Forest on Oversampled data**"
      ]
    },
    {
      "cell_type": "code",
      "execution_count": 228,
      "metadata": {},
      "outputs": [
        {
          "name": "stdout",
          "output_type": "stream",
          "text": [
            "Best parameters are {'n_estimators': 500, 'min_samples_leaf': 2, 'max_samples': 0.4, 'max_features': 'sqrt'} with CV score=0.9981308411214954:\n",
            "Wall time: 1min 10s\n"
          ]
        }
      ],
      "source": [
        "%%time \n",
        "\n",
        "# defining model\n",
        "Model = RandomForestClassifier(random_state=1, n_jobs = -1, class_weight='balanced')\n",
        "\n",
        "# Parameter grid to pass in RandomSearchCV\n",
        "param_grid = {\n",
        "    \"n_estimators\": [500,700,900],\n",
        "    \"min_samples_leaf\": np.arange(1, 4),\n",
        "    \"max_features\": [np.arange(0.3, 0.6, 0.1),'sqrt'],\n",
        "    \"max_samples\": np.arange(0.4, 0.7, 0.1)}\n",
        "\n",
        "\n",
        "#Calling RandomizedSearchCV\n",
        "randomized_cv = RandomizedSearchCV(estimator=Model, \n",
        "                                   param_distributions=param_grid,\n",
        "                                   n_iter=50, \n",
        "                                   n_jobs = -1, \n",
        "                                   scoring=scorer, \n",
        "                                   cv=5, \n",
        "                                   random_state=1)\n",
        "\n",
        "#Fitting parameters in RandomizedSearchCV\n",
        "randomized_cv.fit(X_train_over,y_train_over) ## Complete the code to fit the model on over sampled data\n",
        "\n",
        "print(\"Best parameters are {} with CV score={}:\" .format(randomized_cv.best_params_,randomized_cv.best_score_))"
      ]
    },
    {
      "cell_type": "code",
      "execution_count": 229,
      "metadata": {},
      "outputs": [
        {
          "data": {
            "text/plain": [
              "RandomForestClassifier(class_weight='balanced', max_features='sqrt',\n",
              "                       max_samples=0.4, min_samples_leaf=2, n_estimators=500,\n",
              "                       n_jobs=-1, random_state=1)"
            ]
          },
          "execution_count": 229,
          "metadata": {},
          "output_type": "execute_result"
        }
      ],
      "source": [
        "# Creating new pipeline with best parameters\n",
        "tuned_rf2 = RandomForestClassifier(\n",
        "    n_jobs=-1,\n",
        "    class_weight=\"balanced\",\n",
        "    max_features=\"sqrt\",\n",
        "    random_state=1,\n",
        "    max_samples=0.4,\n",
        "    n_estimators=500,\n",
        "    min_samples_leaf=2,\n",
        ")\n",
        "\n",
        "tuned_rf2.fit(X_train_over, y_train_over)"
      ]
    },
    {
      "cell_type": "code",
      "execution_count": 230,
      "metadata": {},
      "outputs": [
        {
          "name": "stdout",
          "output_type": "stream",
          "text": [
            "Training performance:\n"
          ]
        },
        {
          "data": {
            "text/html": [
              "<div>\n",
              "<style scoped>\n",
              "    .dataframe tbody tr th:only-of-type {\n",
              "        vertical-align: middle;\n",
              "    }\n",
              "\n",
              "    .dataframe tbody tr th {\n",
              "        vertical-align: top;\n",
              "    }\n",
              "\n",
              "    .dataframe thead th {\n",
              "        text-align: right;\n",
              "    }\n",
              "</style>\n",
              "<table border=\"1\" class=\"dataframe\">\n",
              "  <thead>\n",
              "    <tr style=\"text-align: right;\">\n",
              "      <th></th>\n",
              "      <th>Accuracy</th>\n",
              "      <th>Recall</th>\n",
              "      <th>Precision</th>\n",
              "      <th>F1</th>\n",
              "    </tr>\n",
              "  </thead>\n",
              "  <tbody>\n",
              "    <tr>\n",
              "      <th>0</th>\n",
              "      <td>1.0</td>\n",
              "      <td>1.0</td>\n",
              "      <td>1.0</td>\n",
              "      <td>1.0</td>\n",
              "    </tr>\n",
              "  </tbody>\n",
              "</table>\n",
              "</div>"
            ],
            "text/plain": [
              "   Accuracy  Recall  Precision   F1\n",
              "0       1.0     1.0        1.0  1.0"
            ]
          },
          "execution_count": 230,
          "metadata": {},
          "output_type": "execute_result"
        }
      ],
      "source": [
        "rf2_train_perf = model_performance_classification_sklearn(\n",
        "    tuned_rf2, X_train_over, y_train_over\n",
        ")\n",
        "\n",
        "print(\"Training performance:\")\n",
        "rf2_train_perf"
      ]
    },
    {
      "cell_type": "code",
      "execution_count": 232,
      "metadata": {},
      "outputs": [
        {
          "name": "stdout",
          "output_type": "stream",
          "text": [
            "Testing performance:\n"
          ]
        },
        {
          "data": {
            "text/html": [
              "<div>\n",
              "<style scoped>\n",
              "    .dataframe tbody tr th:only-of-type {\n",
              "        vertical-align: middle;\n",
              "    }\n",
              "\n",
              "    .dataframe tbody tr th {\n",
              "        vertical-align: top;\n",
              "    }\n",
              "\n",
              "    .dataframe thead th {\n",
              "        text-align: right;\n",
              "    }\n",
              "</style>\n",
              "<table border=\"1\" class=\"dataframe\">\n",
              "  <thead>\n",
              "    <tr style=\"text-align: right;\">\n",
              "      <th></th>\n",
              "      <th>Accuracy</th>\n",
              "      <th>Recall</th>\n",
              "      <th>Precision</th>\n",
              "      <th>F1</th>\n",
              "    </tr>\n",
              "  </thead>\n",
              "  <tbody>\n",
              "    <tr>\n",
              "      <th>0</th>\n",
              "      <td>1.0</td>\n",
              "      <td>1.0</td>\n",
              "      <td>1.0</td>\n",
              "      <td>1.0</td>\n",
              "    </tr>\n",
              "  </tbody>\n",
              "</table>\n",
              "</div>"
            ],
            "text/plain": [
              "   Accuracy  Recall  Precision   F1\n",
              "0       1.0     1.0        1.0  1.0"
            ]
          },
          "execution_count": 232,
          "metadata": {},
          "output_type": "execute_result"
        }
      ],
      "source": [
        "rf2_val_perf = model_performance_classification_sklearn(tuned_rf2, X_test, y_test)\n",
        "\n",
        "print(\"Testing performance:\")\n",
        "rf2_val_perf"
      ]
    },
    {
      "cell_type": "code",
      "execution_count": 235,
      "metadata": {},
      "outputs": [
        {
          "data": {
            "image/png": "[encoded data removed]",
            "text/plain": [
              "<Figure size 432x288 with 2 Axes>"
            ]
          },
          "metadata": {},
          "output_type": "display_data"
        }
      ],
      "source": [
        "confusion_matrix_sklearn(tuned_rf2, X_test, y_test)"
      ]
    },
    {
      "cell_type": "markdown",
      "metadata": {},
      "source": [
        "**Validation performance comparison**"
      ]
    },
    {
      "cell_type": "code",
      "execution_count": 236,
      "metadata": {},
      "outputs": [
        {
          "name": "stdout",
          "output_type": "stream",
          "text": [
            "Testing performance comparison:\n"
          ]
        },
        {
          "data": {
            "text/html": [
              "<style  type=\"text/css\" >\n",
              "#T_2986783e_6503_11ed_8899_c03a63492ef6row0_col0,#T_2986783e_6503_11ed_8899_c03a63492ef6row0_col2,#T_2986783e_6503_11ed_8899_c03a63492ef6row1_col0,#T_2986783e_6503_11ed_8899_c03a63492ef6row1_col1,#T_2986783e_6503_11ed_8899_c03a63492ef6row1_col2,#T_2986783e_6503_11ed_8899_c03a63492ef6row2_col0,#T_2986783e_6503_11ed_8899_c03a63492ef6row2_col2,#T_2986783e_6503_11ed_8899_c03a63492ef6row3_col0,#T_2986783e_6503_11ed_8899_c03a63492ef6row3_col2{\n",
              "            background-color:  yellow;\n",
              "        }</style><table id=\"T_2986783e_6503_11ed_8899_c03a63492ef6\" ><thead>    <tr>        <th class=\"blank level0\" ></th>        <th class=\"col_heading level0 col0\" >Logistic Regression</th>        <th class=\"col_heading level0 col1\" >Logistic Regression with Oversampled data</th>        <th class=\"col_heading level0 col2\" >Tuned Random Forest with Oversampled data</th>    </tr></thead><tbody>\n",
              "                <tr>\n",
              "                        <th id=\"T_2986783e_6503_11ed_8899_c03a63492ef6level0_row0\" class=\"row_heading level0 row0\" >Accuracy</th>\n",
              "                        <td id=\"T_2986783e_6503_11ed_8899_c03a63492ef6row0_col0\" class=\"data row0 col0\" >1.000000</td>\n",
              "                        <td id=\"T_2986783e_6503_11ed_8899_c03a63492ef6row0_col1\" class=\"data row0 col1\" >0.987654</td>\n",
              "                        <td id=\"T_2986783e_6503_11ed_8899_c03a63492ef6row0_col2\" class=\"data row0 col2\" >1.000000</td>\n",
              "            </tr>\n",
              "            <tr>\n",
              "                        <th id=\"T_2986783e_6503_11ed_8899_c03a63492ef6level0_row1\" class=\"row_heading level0 row1\" >Recall</th>\n",
              "                        <td id=\"T_2986783e_6503_11ed_8899_c03a63492ef6row1_col0\" class=\"data row1 col0\" >1.000000</td>\n",
              "                        <td id=\"T_2986783e_6503_11ed_8899_c03a63492ef6row1_col1\" class=\"data row1 col1\" >1.000000</td>\n",
              "                        <td id=\"T_2986783e_6503_11ed_8899_c03a63492ef6row1_col2\" class=\"data row1 col2\" >1.000000</td>\n",
              "            </tr>\n",
              "            <tr>\n",
              "                        <th id=\"T_2986783e_6503_11ed_8899_c03a63492ef6level0_row2\" class=\"row_heading level0 row2\" >Precision</th>\n",
              "                        <td id=\"T_2986783e_6503_11ed_8899_c03a63492ef6row2_col0\" class=\"data row2 col0\" >1.000000</td>\n",
              "                        <td id=\"T_2986783e_6503_11ed_8899_c03a63492ef6row2_col1\" class=\"data row2 col1\" >0.928571</td>\n",
              "                        <td id=\"T_2986783e_6503_11ed_8899_c03a63492ef6row2_col2\" class=\"data row2 col2\" >1.000000</td>\n",
              "            </tr>\n",
              "            <tr>\n",
              "                        <th id=\"T_2986783e_6503_11ed_8899_c03a63492ef6level0_row3\" class=\"row_heading level0 row3\" >F1</th>\n",
              "                        <td id=\"T_2986783e_6503_11ed_8899_c03a63492ef6row3_col0\" class=\"data row3 col0\" >1.000000</td>\n",
              "                        <td id=\"T_2986783e_6503_11ed_8899_c03a63492ef6row3_col1\" class=\"data row3 col1\" >0.962963</td>\n",
              "                        <td id=\"T_2986783e_6503_11ed_8899_c03a63492ef6row3_col2\" class=\"data row3 col2\" >1.000000</td>\n",
              "            </tr>\n",
              "    </tbody></table>"
            ],
            "text/plain": [
              "<pandas.io.formats.style.Styler at 0x2453c506430>"
            ]
          },
          "execution_count": 236,
          "metadata": {},
          "output_type": "execute_result"
        }
      ],
      "source": [
        "# Validation performance comparison\n",
        "\n",
        "models_train_comp_df = pd.concat(\n",
        "    [\n",
        "        log_reg_model_val_perf.T,\n",
        "        log_reg_over_val_perf.T,\n",
        "        rf2_val_perf.T,\n",
        "        \n",
        "    ],\n",
        "    axis=1,\n",
        ")\n",
        "models_train_comp_df.columns = [\n",
        "    \"Logistic Regression\",\n",
        "    \"Logistic Regression with Oversampled data\",\n",
        "    \"Tuned Random Forest with Oversampled data\",\n",
        "    \n",
        "]\n",
        "print(\"Testing performance comparison:\")\n",
        "models_train_comp_df.style.highlight_max(axis=1)"
      ]
    },
    {
      "cell_type": "markdown",
      "metadata": {},
      "source": [
        "**The logistic regression model did really well both before sampling and after sampling, predicting correctly the diabetic people. The random forest model did well too in its classification of diabetic people. In future, given more time, it'll be worth trying other classification models such as XGB and SVM to see how they would perform as well as using a cross validation method for purposes of experimentation to see the effect on performance**"
      ]
    },
    {
      "cell_type": "markdown",
      "metadata": {},
      "source": [
        "**What I enjoyed the most:**\n",
        "\n",
        " Fitting the data into the models and interpreting the results\n",
        "\n",
        " **Most Challenging:**\n",
        "\n",
        " Tuning the random forest model\n",
        "\n",
        " **If I had more time:**\n",
        " Deal with outliers\n",
        " Try out other classification models such as SVMs to see what their performance would be"
      ]
    }
  ],
  "metadata": {
    "colab": {
      "provenance": []
    },
    "kernelspec": {
      "display_name": "Python 3.8.5 ('base')",
      "language": "python",
      "name": "python3"
    },
    "language_info": {
      "codemirror_mode": {
        "name": "ipython",
        "version": 3
      },
      "file_extension": ".py",
      "mimetype": "text/x-python",
      "name": "python",
      "nbconvert_exporter": "python",
      "pygments_lexer": "ipython3",
      "version": "3.8.5"
    },
    "vscode": {
      "interpreter": {
        "hash": "4cefebf92db13448a3eac35ce0a51d7125349ff2436a1ec0f786daf2949eb7b8"
      }
    }
  },
  "nbformat": 4,
  "nbformat_minor": 0
}
